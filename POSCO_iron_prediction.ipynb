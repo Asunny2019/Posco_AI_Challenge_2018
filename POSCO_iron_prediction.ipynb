{
 "cells": [
  {
   "cell_type": "markdown",
   "metadata": {},
   "source": [
    "### 전처리\n",
    "- Python 사용"
   ]
  },
  {
   "cell_type": "code",
   "execution_count": 1,
   "metadata": {},
   "outputs": [],
   "source": [
    "import os\n",
    "import numpy as np\n",
    "import pandas as pd\n"
   ]
  },
  {
   "cell_type": "code",
   "execution_count": 2,
   "metadata": {},
   "outputs": [],
   "source": [
    "path=os.chdir(r\"C:\\Users\\hyde2\\py_coding\\posco\")"
   ]
  },
  {
   "cell_type": "code",
   "execution_count": 3,
   "metadata": {},
   "outputs": [],
   "source": [
    "baltic=pd.read_csv(r\"data\\baltic_r_r.csv\",encoding=\"euc-kr\")\n",
    "dollarindex=pd.read_csv(r\"data\\dollarindex.csv\",encoding=\"euc-kr\")\n",
    "gold=pd.read_csv(r\"data\\gold_price_r.csv\",encoding=\"euc-kr\")\n",
    "oil=pd.read_csv(r\"data\\oil_price_r.csv\",encoding=\"euc-kr\")\n",
    "slx=pd.read_csv(r\"data\\SLX.csv\",encoding=\"euc-kr\")\n",
    "iron=pd.read_excel(r\"data\\IRON_r.xls\",encoding=\"euc-kr\")"
   ]
  },
  {
   "cell_type": "code",
   "execution_count": 4,
   "metadata": {},
   "outputs": [
    {
     "data": {
      "text/html": [
       "<div>\n",
       "<style scoped>\n",
       "    .dataframe tbody tr th:only-of-type {\n",
       "        vertical-align: middle;\n",
       "    }\n",
       "\n",
       "    .dataframe tbody tr th {\n",
       "        vertical-align: top;\n",
       "    }\n",
       "\n",
       "    .dataframe thead th {\n",
       "        text-align: right;\n",
       "    }\n",
       "</style>\n",
       "<table border=\"1\" class=\"dataframe\">\n",
       "  <thead>\n",
       "    <tr style=\"text-align: right;\">\n",
       "      <th></th>\n",
       "      <th>기준일</th>\n",
       "      <th>기준가격</th>\n",
       "      <th>등락가</th>\n",
       "      <th>등락비율</th>\n",
       "      <th>재고량</th>\n",
       "    </tr>\n",
       "  </thead>\n",
       "  <tbody>\n",
       "    <tr>\n",
       "      <th>0</th>\n",
       "      <td>2010-01-08</td>\n",
       "      <td>135.0</td>\n",
       "      <td>23.5</td>\n",
       "      <td>21.08</td>\n",
       "      <td>0.0</td>\n",
       "    </tr>\n",
       "    <tr>\n",
       "      <th>1</th>\n",
       "      <td>2010-01-15</td>\n",
       "      <td>135.0</td>\n",
       "      <td>0.0</td>\n",
       "      <td>0.00</td>\n",
       "      <td>0.0</td>\n",
       "    </tr>\n",
       "    <tr>\n",
       "      <th>2</th>\n",
       "      <td>2010-01-22</td>\n",
       "      <td>131.5</td>\n",
       "      <td>-3.5</td>\n",
       "      <td>-2.59</td>\n",
       "      <td>0.0</td>\n",
       "    </tr>\n",
       "    <tr>\n",
       "      <th>3</th>\n",
       "      <td>2010-01-29</td>\n",
       "      <td>126.0</td>\n",
       "      <td>-5.5</td>\n",
       "      <td>-4.18</td>\n",
       "      <td>0.0</td>\n",
       "    </tr>\n",
       "    <tr>\n",
       "      <th>4</th>\n",
       "      <td>2010-02-05</td>\n",
       "      <td>128.5</td>\n",
       "      <td>2.5</td>\n",
       "      <td>1.98</td>\n",
       "      <td>0.0</td>\n",
       "    </tr>\n",
       "  </tbody>\n",
       "</table>\n",
       "</div>"
      ],
      "text/plain": [
       "          기준일   기준가격   등락가   등락비율  재고량\n",
       "0  2010-01-08  135.0  23.5  21.08  0.0\n",
       "1  2010-01-15  135.0   0.0   0.00  0.0\n",
       "2  2010-01-22  131.5  -3.5  -2.59  0.0\n",
       "3  2010-01-29  126.0  -5.5  -4.18  0.0\n",
       "4  2010-02-05  128.5   2.5   1.98  0.0"
      ]
     },
     "execution_count": 4,
     "metadata": {},
     "output_type": "execute_result"
    }
   ],
   "source": [
    "iron.head()"
   ]
  },
  {
   "cell_type": "code",
   "execution_count": 5,
   "metadata": {},
   "outputs": [],
   "source": [
    "iron.rename(columns={iron.columns[0]:\"date\",iron.columns[1]:\"price\",\n",
    "                     iron.columns[2]:\"rise\",iron.columns[3]:\"pro\",\n",
    "                    iron.columns[4]:\"waste\"},inplace=True)"
   ]
  },
  {
   "cell_type": "code",
   "execution_count": 6,
   "metadata": {},
   "outputs": [
    {
     "data": {
      "text/html": [
       "<div>\n",
       "<style scoped>\n",
       "    .dataframe tbody tr th:only-of-type {\n",
       "        vertical-align: middle;\n",
       "    }\n",
       "\n",
       "    .dataframe tbody tr th {\n",
       "        vertical-align: top;\n",
       "    }\n",
       "\n",
       "    .dataframe thead th {\n",
       "        text-align: right;\n",
       "    }\n",
       "</style>\n",
       "<table border=\"1\" class=\"dataframe\">\n",
       "  <thead>\n",
       "    <tr style=\"text-align: right;\">\n",
       "      <th></th>\n",
       "      <th>날짜</th>\n",
       "      <th>금 [LBMA] 현물</th>\n",
       "    </tr>\n",
       "  </thead>\n",
       "  <tbody>\n",
       "    <tr>\n",
       "      <th>0</th>\n",
       "      <td>20100104</td>\n",
       "      <td>1126.35</td>\n",
       "    </tr>\n",
       "    <tr>\n",
       "      <th>1</th>\n",
       "      <td>20100111</td>\n",
       "      <td>1139.55</td>\n",
       "    </tr>\n",
       "    <tr>\n",
       "      <th>2</th>\n",
       "      <td>20100118</td>\n",
       "      <td>1116.00</td>\n",
       "    </tr>\n",
       "    <tr>\n",
       "      <th>3</th>\n",
       "      <td>20100125</td>\n",
       "      <td>1089.95</td>\n",
       "    </tr>\n",
       "    <tr>\n",
       "      <th>4</th>\n",
       "      <td>20100201</td>\n",
       "      <td>1090.80</td>\n",
       "    </tr>\n",
       "  </tbody>\n",
       "</table>\n",
       "</div>"
      ],
      "text/plain": [
       "         날짜  금 [LBMA] 현물\n",
       "0  20100104      1126.35\n",
       "1  20100111      1139.55\n",
       "2  20100118      1116.00\n",
       "3  20100125      1089.95\n",
       "4  20100201      1090.80"
      ]
     },
     "execution_count": 6,
     "metadata": {},
     "output_type": "execute_result"
    }
   ],
   "source": [
    "gold.head()"
   ]
  },
  {
   "cell_type": "code",
   "execution_count": 7,
   "metadata": {},
   "outputs": [],
   "source": [
    "gold.rename(columns={gold.columns[0]:\"date\", gold.columns[1]:\"price\"},inplace=True)"
   ]
  },
  {
   "cell_type": "code",
   "execution_count": 8,
   "metadata": {},
   "outputs": [
    {
     "data": {
      "text/html": [
       "<div>\n",
       "<style scoped>\n",
       "    .dataframe tbody tr th:only-of-type {\n",
       "        vertical-align: middle;\n",
       "    }\n",
       "\n",
       "    .dataframe tbody tr th {\n",
       "        vertical-align: top;\n",
       "    }\n",
       "\n",
       "    .dataframe thead th {\n",
       "        text-align: right;\n",
       "    }\n",
       "</style>\n",
       "<table border=\"1\" class=\"dataframe\">\n",
       "  <thead>\n",
       "    <tr style=\"text-align: right;\">\n",
       "      <th></th>\n",
       "      <th>날짜</th>\n",
       "      <th>두바이유 [싱가포르(FOB)] 현물</th>\n",
       "      <th>날짜.1</th>\n",
       "      <th>WTI [CME(NYMEX)] 2018.09</th>\n",
       "      <th>날짜.2</th>\n",
       "      <th>브렌트유 [ICE] 2018.09</th>\n",
       "      <th>날짜.3</th>\n",
       "      <th>휘발유 [CME(NYMEX)] 2018.08</th>\n",
       "      <th>날짜.4</th>\n",
       "      <th>난방유 [CME(NYMEX)] 2018.09</th>\n",
       "    </tr>\n",
       "  </thead>\n",
       "  <tbody>\n",
       "    <tr>\n",
       "      <th>0</th>\n",
       "      <td>20100104</td>\n",
       "      <td>79.51</td>\n",
       "      <td>20100104</td>\n",
       "      <td>82.37</td>\n",
       "      <td>20100104</td>\n",
       "      <td>81.10</td>\n",
       "      <td>20100104</td>\n",
       "      <td>213.12</td>\n",
       "      <td>20100104</td>\n",
       "      <td>219.43</td>\n",
       "    </tr>\n",
       "    <tr>\n",
       "      <th>1</th>\n",
       "      <td>20100111</td>\n",
       "      <td>79.07</td>\n",
       "      <td>20100111</td>\n",
       "      <td>80.07</td>\n",
       "      <td>20100111</td>\n",
       "      <td>78.70</td>\n",
       "      <td>20100111</td>\n",
       "      <td>208.40</td>\n",
       "      <td>20100111</td>\n",
       "      <td>210.71</td>\n",
       "    </tr>\n",
       "    <tr>\n",
       "      <th>2</th>\n",
       "      <td>20100118</td>\n",
       "      <td>75.91</td>\n",
       "      <td>20100118</td>\n",
       "      <td>76.82</td>\n",
       "      <td>20100118</td>\n",
       "      <td>75.69</td>\n",
       "      <td>20100118</td>\n",
       "      <td>201.36</td>\n",
       "      <td>20100118</td>\n",
       "      <td>199.84</td>\n",
       "    </tr>\n",
       "    <tr>\n",
       "      <th>3</th>\n",
       "      <td>20100125</td>\n",
       "      <td>72.19</td>\n",
       "      <td>20100125</td>\n",
       "      <td>74.03</td>\n",
       "      <td>20100125</td>\n",
       "      <td>72.56</td>\n",
       "      <td>20100125</td>\n",
       "      <td>194.76</td>\n",
       "      <td>20100125</td>\n",
       "      <td>193.31</td>\n",
       "    </tr>\n",
       "    <tr>\n",
       "      <th>4</th>\n",
       "      <td>20100201</td>\n",
       "      <td>73.95</td>\n",
       "      <td>20100201</td>\n",
       "      <td>74.59</td>\n",
       "      <td>20100201</td>\n",
       "      <td>73.36</td>\n",
       "      <td>20100201</td>\n",
       "      <td>196.47</td>\n",
       "      <td>20100201</td>\n",
       "      <td>196.32</td>\n",
       "    </tr>\n",
       "  </tbody>\n",
       "</table>\n",
       "</div>"
      ],
      "text/plain": [
       "         날짜  두바이유 [싱가포르(FOB)] 현물      날짜.1  WTI [CME(NYMEX)] 2018.09  \\\n",
       "0  20100104                79.51  20100104                     82.37   \n",
       "1  20100111                79.07  20100111                     80.07   \n",
       "2  20100118                75.91  20100118                     76.82   \n",
       "3  20100125                72.19  20100125                     74.03   \n",
       "4  20100201                73.95  20100201                     74.59   \n",
       "\n",
       "       날짜.2  브렌트유 [ICE] 2018.09      날짜.3  휘발유 [CME(NYMEX)] 2018.08      날짜.4  \\\n",
       "0  20100104               81.10  20100104                    213.12  20100104   \n",
       "1  20100111               78.70  20100111                    208.40  20100111   \n",
       "2  20100118               75.69  20100118                    201.36  20100118   \n",
       "3  20100125               72.56  20100125                    194.76  20100125   \n",
       "4  20100201               73.36  20100201                    196.47  20100201   \n",
       "\n",
       "   난방유 [CME(NYMEX)] 2018.09  \n",
       "0                    219.43  \n",
       "1                    210.71  \n",
       "2                    199.84  \n",
       "3                    193.31  \n",
       "4                    196.32  "
      ]
     },
     "execution_count": 8,
     "metadata": {},
     "output_type": "execute_result"
    }
   ],
   "source": [
    "oil.head()"
   ]
  },
  {
   "cell_type": "code",
   "execution_count": 9,
   "metadata": {},
   "outputs": [],
   "source": [
    "oil.rename(columns={oil.columns[0]:\"date\",oil.columns[1]:\"dubai\",\n",
    "                    oil.columns[2]:\"date1\",oil.columns[3]:\"wti\",\n",
    "                    oil.columns[4]:\"date2\",oil.columns[5]:\"brent\",\n",
    "                    oil.columns[6]:\"date3\",oil.columns[7]:\"gasoline\",\n",
    "                    oil.columns[8]:\"date4\",oil.columns[9]:\"warm\"},inplace=True)"
   ]
  },
  {
   "cell_type": "code",
   "execution_count": 10,
   "metadata": {},
   "outputs": [],
   "source": [
    "dollarindex.columns=(\"date\",\"price\",\"open\",\"high\",\"low\",\"tran\",\"transition\")"
   ]
  },
  {
   "cell_type": "code",
   "execution_count": 11,
   "metadata": {},
   "outputs": [],
   "source": [
    "iron.iloc[446,0]=\"2018-07-27\"\n",
    "iron.iloc[447,0]=\"2018-08-03\"\n",
    "iron.iloc[448,0]=\"2018-08-10\""
   ]
  },
  {
   "cell_type": "code",
   "execution_count": 12,
   "metadata": {},
   "outputs": [],
   "source": [
    "slx.drop(0,inplace=True)\n",
    "slx=slx.reset_index()"
   ]
  },
  {
   "cell_type": "code",
   "execution_count": 13,
   "metadata": {},
   "outputs": [],
   "source": [
    "baltics=baltic[\"Price\"]"
   ]
  },
  {
   "cell_type": "code",
   "execution_count": 14,
   "metadata": {},
   "outputs": [],
   "source": [
    "baltics=baltics.map(lambda x: str(x).replace(\".00\",\"\"))\n",
    "baltics=baltics.map(lambda x: str(x).replace(\",\",\"\"))"
   ]
  },
  {
   "cell_type": "code",
   "execution_count": 15,
   "metadata": {},
   "outputs": [],
   "source": [
    "baltics=baltics.astype(\"float64\")"
   ]
  },
  {
   "cell_type": "code",
   "execution_count": 16,
   "metadata": {},
   "outputs": [
    {
     "data": {
      "text/plain": [
       "dtype('float64')"
      ]
     },
     "execution_count": 16,
     "metadata": {},
     "output_type": "execute_result"
    }
   ],
   "source": [
    "baltics.dtype"
   ]
  },
  {
   "cell_type": "code",
   "execution_count": 17,
   "metadata": {},
   "outputs": [],
   "source": [
    "olddf=pd.DataFrame(data={\"price\":iron[\"price\"],\"dollar\":dollarindex[\"price\"],\n",
    "                        \"gold\":gold[\"price\"],\"oil1\":oil[\"dubai\"],\n",
    "                         \"oil2\":oil[\"wti\"],\"oil3\":oil[\"brent\"],\n",
    "                        \"oil4\":oil[\"gasoline\"],\"oil5\":oil[\"warm\"],\n",
    "                        \"SLX\":slx[\"Close\"],\"blatic\":baltics})"
   ]
  },
  {
   "cell_type": "code",
   "execution_count": 18,
   "metadata": {},
   "outputs": [],
   "source": [
    "olddf.to_csv(r\"data\\olddf.csv\")"
   ]
  },
  {
   "cell_type": "markdown",
   "metadata": {},
   "source": [
    "## R PROGRAMMING START\n",
    "- 타임시리즈\n"
   ]
  },
  {
   "cell_type": "code",
   "execution_count": 1,
   "metadata": {
    "scrolled": false
   },
   "outputs": [],
   "source": [
    "setwd(\"C:\\\\Users\\\\hyde2\\\\py_coding\\\\posco\")"
   ]
  },
  {
   "cell_type": "code",
   "execution_count": 2,
   "metadata": {},
   "outputs": [],
   "source": [
    "olddf<-read.csv(\"data\\\\olddf.csv\")"
   ]
  },
  {
   "cell_type": "code",
   "execution_count": 3,
   "metadata": {},
   "outputs": [],
   "source": [
    "olddf<-olddf[,2:11]"
   ]
  },
  {
   "cell_type": "code",
   "execution_count": 4,
   "metadata": {},
   "outputs": [
    {
     "data": {
      "text/html": [
       "<table>\n",
       "<thead><tr><th scope=col>price</th><th scope=col>dollar</th><th scope=col>gold</th><th scope=col>oil1</th><th scope=col>oil2</th><th scope=col>oil3</th><th scope=col>oil4</th><th scope=col>oil5</th><th scope=col>SLX</th><th scope=col>blatic</th></tr></thead>\n",
       "<tbody>\n",
       "\t<tr><td>135.0  </td><td>77.47  </td><td>1126.35</td><td>79.51  </td><td>82.37  </td><td>81.10  </td><td>213.12 </td><td>219.43 </td><td>67.55  </td><td>3140   </td></tr>\n",
       "\t<tr><td>135.0  </td><td>77.32  </td><td>1139.55</td><td>79.07  </td><td>80.07  </td><td>78.70  </td><td>208.40 </td><td>210.71 </td><td>65.00  </td><td>3299   </td></tr>\n",
       "\t<tr><td>131.5  </td><td>78.28  </td><td>1116.00</td><td>75.91  </td><td>76.82  </td><td>75.69  </td><td>201.36 </td><td>199.84 </td><td>58.90  </td><td>3204   </td></tr>\n",
       "\t<tr><td>126.0  </td><td>79.46  </td><td>1089.95</td><td>72.19  </td><td>74.03  </td><td>72.56  </td><td>194.76 </td><td>193.31 </td><td>54.51  </td><td>2848   </td></tr>\n",
       "\t<tr><td>128.5  </td><td>80.44  </td><td>1090.80</td><td>73.95  </td><td>74.59  </td><td>73.36  </td><td>196.47 </td><td>196.32 </td><td>54.37  </td><td>2715   </td></tr>\n",
       "\t<tr><td>129.5  </td><td>80.32  </td><td>1072.60</td><td>71.21  </td><td>73.91  </td><td>72.15  </td><td>192.34 </td><td>193.03 </td><td>57.31  </td><td>2571   </td></tr>\n",
       "</tbody>\n",
       "</table>\n"
      ],
      "text/latex": [
       "\\begin{tabular}{r|llllllllll}\n",
       " price & dollar & gold & oil1 & oil2 & oil3 & oil4 & oil5 & SLX & blatic\\\\\n",
       "\\hline\n",
       "\t 135.0   & 77.47   & 1126.35 & 79.51   & 82.37   & 81.10   & 213.12  & 219.43  & 67.55   & 3140   \\\\\n",
       "\t 135.0   & 77.32   & 1139.55 & 79.07   & 80.07   & 78.70   & 208.40  & 210.71  & 65.00   & 3299   \\\\\n",
       "\t 131.5   & 78.28   & 1116.00 & 75.91   & 76.82   & 75.69   & 201.36  & 199.84  & 58.90   & 3204   \\\\\n",
       "\t 126.0   & 79.46   & 1089.95 & 72.19   & 74.03   & 72.56   & 194.76  & 193.31  & 54.51   & 2848   \\\\\n",
       "\t 128.5   & 80.44   & 1090.80 & 73.95   & 74.59   & 73.36   & 196.47  & 196.32  & 54.37   & 2715   \\\\\n",
       "\t 129.5   & 80.32   & 1072.60 & 71.21   & 73.91   & 72.15   & 192.34  & 193.03  & 57.31   & 2571   \\\\\n",
       "\\end{tabular}\n"
      ],
      "text/markdown": [
       "\n",
       "| price | dollar | gold | oil1 | oil2 | oil3 | oil4 | oil5 | SLX | blatic |\n",
       "|---|---|---|---|---|---|---|---|---|---|\n",
       "| 135.0   | 77.47   | 1126.35 | 79.51   | 82.37   | 81.10   | 213.12  | 219.43  | 67.55   | 3140    |\n",
       "| 135.0   | 77.32   | 1139.55 | 79.07   | 80.07   | 78.70   | 208.40  | 210.71  | 65.00   | 3299    |\n",
       "| 131.5   | 78.28   | 1116.00 | 75.91   | 76.82   | 75.69   | 201.36  | 199.84  | 58.90   | 3204    |\n",
       "| 126.0   | 79.46   | 1089.95 | 72.19   | 74.03   | 72.56   | 194.76  | 193.31  | 54.51   | 2848    |\n",
       "| 128.5   | 80.44   | 1090.80 | 73.95   | 74.59   | 73.36   | 196.47  | 196.32  | 54.37   | 2715    |\n",
       "| 129.5   | 80.32   | 1072.60 | 71.21   | 73.91   | 72.15   | 192.34  | 193.03  | 57.31   | 2571    |\n",
       "\n"
      ],
      "text/plain": [
       "  price dollar gold    oil1  oil2  oil3  oil4   oil5   SLX   blatic\n",
       "1 135.0 77.47  1126.35 79.51 82.37 81.10 213.12 219.43 67.55 3140  \n",
       "2 135.0 77.32  1139.55 79.07 80.07 78.70 208.40 210.71 65.00 3299  \n",
       "3 131.5 78.28  1116.00 75.91 76.82 75.69 201.36 199.84 58.90 3204  \n",
       "4 126.0 79.46  1089.95 72.19 74.03 72.56 194.76 193.31 54.51 2848  \n",
       "5 128.5 80.44  1090.80 73.95 74.59 73.36 196.47 196.32 54.37 2715  \n",
       "6 129.5 80.32  1072.60 71.21 73.91 72.15 192.34 193.03 57.31 2571  "
      ]
     },
     "metadata": {},
     "output_type": "display_data"
    }
   ],
   "source": [
    "head(olddf)"
   ]
  },
  {
   "cell_type": "code",
   "execution_count": 5,
   "metadata": {},
   "outputs": [],
   "source": [
    "dollarprice<-na.omit(olddf$dollar)"
   ]
  },
  {
   "cell_type": "code",
   "execution_count": 6,
   "metadata": {},
   "outputs": [],
   "source": [
    "goldprice<-ts(dollarprice, frequency=52)"
   ]
  },
  {
   "cell_type": "code",
   "execution_count": 7,
   "metadata": {},
   "outputs": [
    {
     "name": "stdout",
     "output_type": "stream",
     "text": [
      "package 'tseries' successfully unpacked and MD5 sums checked\n",
      "\n",
      "The downloaded binary packages are in\n",
      "\tC:\\Users\\hyde2\\AppData\\Local\\Temp\\RtmpEB3Q5N\\downloaded_packages\n",
      "package 'forecast' successfully unpacked and MD5 sums checked\n",
      "\n",
      "The downloaded binary packages are in\n",
      "\tC:\\Users\\hyde2\\AppData\\Local\\Temp\\RtmpEB3Q5N\\downloaded_packages\n",
      "package 'randomForest' successfully unpacked and MD5 sums checked\n",
      "\n",
      "The downloaded binary packages are in\n",
      "\tC:\\Users\\hyde2\\AppData\\Local\\Temp\\RtmpEB3Q5N\\downloaded_packages\n"
     ]
    }
   ],
   "source": [
    "install.packages(\"tseries\")\n",
    "install.packages(\"forecast\")\n",
    "install.packages(\"randomForest\")\n",
    "\n"
   ]
  },
  {
   "cell_type": "code",
   "execution_count": 8,
   "metadata": {},
   "outputs": [
    {
     "name": "stderr",
     "output_type": "stream",
     "text": [
      "Warning message:\n",
      "\"package 'tseries' was built under R version 3.6.2\"Registered S3 method overwritten by 'xts':\n",
      "  method     from\n",
      "  as.zoo.xts zoo \n",
      "Registered S3 method overwritten by 'quantmod':\n",
      "  method            from\n",
      "  as.zoo.data.frame zoo \n",
      "Warning message:\n",
      "\"package 'forecast' was built under R version 3.6.2\"Registered S3 methods overwritten by 'ggplot2':\n",
      "  method         from \n",
      "  [.quosures     rlang\n",
      "  c.quosures     rlang\n",
      "  print.quosures rlang\n",
      "Registered S3 methods overwritten by 'forecast':\n",
      "  method             from    \n",
      "  fitted.fracdiff    fracdiff\n",
      "  residuals.fracdiff fracdiff\n"
     ]
    }
   ],
   "source": [
    "library(tseries)\n",
    "library(forecast)"
   ]
  },
  {
   "cell_type": "markdown",
   "metadata": {},
   "source": [
    "Dickey-Fuller Test\n",
    ":stationary인지 아닌지를 가설검증하는 것.\n",
    "기각되면 쓸수 있고 기각안되면 힘들어짐\n",
    "\n",
    "> p-value가 0.01로 기각이 되었으므로 stationary임을 알수 있다. ARIMA사용가능"
   ]
  },
  {
   "cell_type": "code",
   "execution_count": 9,
   "metadata": {
    "scrolled": true
   },
   "outputs": [
    {
     "name": "stderr",
     "output_type": "stream",
     "text": [
      "Warning message in adf.test(diff(log(goldprice)), alternative = \"stationary\", k = 0):\n",
      "\"p-value smaller than printed p-value\""
     ]
    },
    {
     "data": {
      "text/plain": [
       "\n",
       "\tAugmented Dickey-Fuller Test\n",
       "\n",
       "data:  diff(log(goldprice))\n",
       "Dickey-Fuller = -20.948, Lag order = 0, p-value = 0.01\n",
       "alternative hypothesis: stationary\n"
      ]
     },
     "metadata": {},
     "output_type": "display_data"
    }
   ],
   "source": [
    "adf.test(diff(log(goldprice)),alternative=\"stationary\",k=0)\n",
    "#ARIMA(p,d,q) diff를 한번썼으믈 1차차분이다. 그래서 d=1"
   ]
  },
  {
   "cell_type": "code",
   "execution_count": 10,
   "metadata": {},
   "outputs": [],
   "source": [
    "fit <- arima(log(goldprice), c(1, 0, 1), \n",
    "             seasonal = list(order = c(0, 1, 1),period = 52))\n"
   ]
  },
  {
   "cell_type": "code",
   "execution_count": 11,
   "metadata": {},
   "outputs": [],
   "source": [
    "pred<-predict(fit,n.ahead=5)\n",
    "\n",
    "numbers<-pred$pred\n",
    "\n",
    "dollar_pred<-exp(numbers)\n",
    "\n"
   ]
  },
  {
   "cell_type": "code",
   "execution_count": 12,
   "metadata": {},
   "outputs": [
    {
     "name": "stdout",
     "output_type": "stream",
     "text": [
      "Time Series:\n",
      "Start = c(9, 36) \n",
      "End = c(9, 40) \n",
      "Frequency = 52 \n",
      "[1] 95.58008 94.63039 94.72041 94.83966 94.84015\n"
     ]
    }
   ],
   "source": [
    "print(dollar_pred)"
   ]
  },
  {
   "cell_type": "code",
   "execution_count": null,
   "metadata": {},
   "outputs": [],
   "source": []
  },
  {
   "cell_type": "code",
   "execution_count": null,
   "metadata": {},
   "outputs": [],
   "source": []
  }
 ],
 "metadata": {
  "kernelspec": {
   "display_name": "R",
   "language": "R",
   "name": "ir"
  },
  "language_info": {
   "codemirror_mode": "r",
   "file_extension": ".r",
   "mimetype": "text/x-r-source",
   "name": "R",
   "pygments_lexer": "r",
   "version": "3.6.1"
  }
 },
 "nbformat": 4,
 "nbformat_minor": 2
}
