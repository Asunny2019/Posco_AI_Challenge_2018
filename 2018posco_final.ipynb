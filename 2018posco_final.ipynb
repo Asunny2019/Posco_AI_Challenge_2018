{
 "cells": [
  {
   "cell_type": "code",
   "execution_count": 1,
   "metadata": {},
   "outputs": [],
   "source": [
    "import os\n",
    "import pandas as pd\n",
    "import numpy as np"
   ]
  },
  {
   "cell_type": "code",
   "execution_count": 2,
   "metadata": {},
   "outputs": [],
   "source": [
    "dir_=\"\"# 수집한 데이터를 입력하면 됩니다.\n",
    "os.chdir()"
   ]
  },
  {
   "cell_type": "code",
   "execution_count": 3,
   "metadata": {},
   "outputs": [],
   "source": [
    "baltic=pd.read_csv(\"baltic_r_r.csv\",encoding=\"euc-kr\") # baltic 지수\n",
    "dollar=pd.read_csv(\"dollarindex.csv\",encoding=\"euc-kr\") # dallar index\n",
    "gold=pd.read_csv(\"gold_price_r.csv\",encoding=\"euc-kr\") # gold 가격\n",
    "oil=pd.read_csv(\"oil_price_r.csv\",encoding=\"euc-kr\") # 두바이유, WTI, 브렌트유, 휘발유, 난방유 가격\n",
    "slx=pd.read_csv(\"SLX.csv\",encoding=\"euc-kr\") # SLX  "
   ]
  },
  {
   "cell_type": "code",
   "execution_count": 4,
   "metadata": {},
   "outputs": [],
   "source": [
    "iron=pd.read_excel(\"IRON_r.xls\",encoding=\"euc-kr\")"
   ]
  },
  {
   "cell_type": "code",
   "execution_count": 5,
   "metadata": {},
   "outputs": [],
   "source": [
    "new_col=['date','price','rise','pro','waste']\n",
    "\n",
    "for i in range(5):\n",
    "    iron.columns.values[i] = new_col[i]"
   ]
  },
  {
   "cell_type": "code",
   "execution_count": 6,
   "metadata": {},
   "outputs": [
    {
     "data": {
      "text/html": [
       "<div>\n",
       "<style scoped>\n",
       "    .dataframe tbody tr th:only-of-type {\n",
       "        vertical-align: middle;\n",
       "    }\n",
       "\n",
       "    .dataframe tbody tr th {\n",
       "        vertical-align: top;\n",
       "    }\n",
       "\n",
       "    .dataframe thead th {\n",
       "        text-align: right;\n",
       "    }\n",
       "</style>\n",
       "<table border=\"1\" class=\"dataframe\">\n",
       "  <thead>\n",
       "    <tr style=\"text-align: right;\">\n",
       "      <th></th>\n",
       "      <th>date</th>\n",
       "      <th>price</th>\n",
       "      <th>rise</th>\n",
       "      <th>pro</th>\n",
       "      <th>waste</th>\n",
       "    </tr>\n",
       "  </thead>\n",
       "  <tbody>\n",
       "    <tr>\n",
       "      <th>0</th>\n",
       "      <td>2010-01-08</td>\n",
       "      <td>135.0</td>\n",
       "      <td>23.5</td>\n",
       "      <td>21.08</td>\n",
       "      <td>0.0</td>\n",
       "    </tr>\n",
       "    <tr>\n",
       "      <th>1</th>\n",
       "      <td>2010-01-15</td>\n",
       "      <td>135.0</td>\n",
       "      <td>0.0</td>\n",
       "      <td>0.00</td>\n",
       "      <td>0.0</td>\n",
       "    </tr>\n",
       "    <tr>\n",
       "      <th>2</th>\n",
       "      <td>2010-01-22</td>\n",
       "      <td>131.5</td>\n",
       "      <td>-3.5</td>\n",
       "      <td>-2.59</td>\n",
       "      <td>0.0</td>\n",
       "    </tr>\n",
       "    <tr>\n",
       "      <th>3</th>\n",
       "      <td>2010-01-29</td>\n",
       "      <td>126.0</td>\n",
       "      <td>-5.5</td>\n",
       "      <td>-4.18</td>\n",
       "      <td>0.0</td>\n",
       "    </tr>\n",
       "    <tr>\n",
       "      <th>4</th>\n",
       "      <td>2010-02-05</td>\n",
       "      <td>128.5</td>\n",
       "      <td>2.5</td>\n",
       "      <td>1.98</td>\n",
       "      <td>0.0</td>\n",
       "    </tr>\n",
       "  </tbody>\n",
       "</table>\n",
       "</div>"
      ],
      "text/plain": [
       "         date  price  rise    pro  waste\n",
       "0  2010-01-08  135.0  23.5  21.08    0.0\n",
       "1  2010-01-15  135.0   0.0   0.00    0.0\n",
       "2  2010-01-22  131.5  -3.5  -2.59    0.0\n",
       "3  2010-01-29  126.0  -5.5  -4.18    0.0\n",
       "4  2010-02-05  128.5   2.5   1.98    0.0"
      ]
     },
     "execution_count": 6,
     "metadata": {},
     "output_type": "execute_result"
    }
   ],
   "source": [
    "iron.head()"
   ]
  },
  {
   "cell_type": "code",
   "execution_count": 7,
   "metadata": {},
   "outputs": [],
   "source": [
    "new_col=['date','price']\n",
    "\n",
    "for i in range(2):\n",
    "    gold.columns.values[i] = new_col[i]"
   ]
  },
  {
   "cell_type": "code",
   "execution_count": 8,
   "metadata": {},
   "outputs": [
    {
     "data": {
      "text/html": [
       "<div>\n",
       "<style scoped>\n",
       "    .dataframe tbody tr th:only-of-type {\n",
       "        vertical-align: middle;\n",
       "    }\n",
       "\n",
       "    .dataframe tbody tr th {\n",
       "        vertical-align: top;\n",
       "    }\n",
       "\n",
       "    .dataframe thead th {\n",
       "        text-align: right;\n",
       "    }\n",
       "</style>\n",
       "<table border=\"1\" class=\"dataframe\">\n",
       "  <thead>\n",
       "    <tr style=\"text-align: right;\">\n",
       "      <th></th>\n",
       "      <th>date</th>\n",
       "      <th>price</th>\n",
       "    </tr>\n",
       "  </thead>\n",
       "  <tbody>\n",
       "    <tr>\n",
       "      <th>0</th>\n",
       "      <td>20100104</td>\n",
       "      <td>1126.35</td>\n",
       "    </tr>\n",
       "    <tr>\n",
       "      <th>1</th>\n",
       "      <td>20100111</td>\n",
       "      <td>1139.55</td>\n",
       "    </tr>\n",
       "    <tr>\n",
       "      <th>2</th>\n",
       "      <td>20100118</td>\n",
       "      <td>1116.00</td>\n",
       "    </tr>\n",
       "    <tr>\n",
       "      <th>3</th>\n",
       "      <td>20100125</td>\n",
       "      <td>1089.95</td>\n",
       "    </tr>\n",
       "    <tr>\n",
       "      <th>4</th>\n",
       "      <td>20100201</td>\n",
       "      <td>1090.80</td>\n",
       "    </tr>\n",
       "  </tbody>\n",
       "</table>\n",
       "</div>"
      ],
      "text/plain": [
       "       date    price\n",
       "0  20100104  1126.35\n",
       "1  20100111  1139.55\n",
       "2  20100118  1116.00\n",
       "3  20100125  1089.95\n",
       "4  20100201  1090.80"
      ]
     },
     "execution_count": 8,
     "metadata": {},
     "output_type": "execute_result"
    }
   ],
   "source": [
    "gold.head()"
   ]
  },
  {
   "cell_type": "code",
   "execution_count": 9,
   "metadata": {},
   "outputs": [],
   "source": [
    "new_col=['date','dubai','date1','wti','date2','brent','date3','gasoline','date4','warm']\n",
    "\n",
    "for i in range(len(new_col)):\n",
    "    oil.columns.values[i] = new_col[i]\n"
   ]
  },
  {
   "cell_type": "code",
   "execution_count": 10,
   "metadata": {},
   "outputs": [
    {
     "data": {
      "text/html": [
       "<div>\n",
       "<style scoped>\n",
       "    .dataframe tbody tr th:only-of-type {\n",
       "        vertical-align: middle;\n",
       "    }\n",
       "\n",
       "    .dataframe tbody tr th {\n",
       "        vertical-align: top;\n",
       "    }\n",
       "\n",
       "    .dataframe thead th {\n",
       "        text-align: right;\n",
       "    }\n",
       "</style>\n",
       "<table border=\"1\" class=\"dataframe\">\n",
       "  <thead>\n",
       "    <tr style=\"text-align: right;\">\n",
       "      <th></th>\n",
       "      <th>date</th>\n",
       "      <th>dubai</th>\n",
       "      <th>date1</th>\n",
       "      <th>wti</th>\n",
       "      <th>date2</th>\n",
       "      <th>brent</th>\n",
       "      <th>date3</th>\n",
       "      <th>gasoline</th>\n",
       "      <th>date4</th>\n",
       "      <th>warm</th>\n",
       "    </tr>\n",
       "  </thead>\n",
       "  <tbody>\n",
       "    <tr>\n",
       "      <th>0</th>\n",
       "      <td>20100104</td>\n",
       "      <td>79.51</td>\n",
       "      <td>20100104</td>\n",
       "      <td>82.37</td>\n",
       "      <td>20100104</td>\n",
       "      <td>81.10</td>\n",
       "      <td>20100104</td>\n",
       "      <td>213.12</td>\n",
       "      <td>20100104</td>\n",
       "      <td>219.43</td>\n",
       "    </tr>\n",
       "    <tr>\n",
       "      <th>1</th>\n",
       "      <td>20100111</td>\n",
       "      <td>79.07</td>\n",
       "      <td>20100111</td>\n",
       "      <td>80.07</td>\n",
       "      <td>20100111</td>\n",
       "      <td>78.70</td>\n",
       "      <td>20100111</td>\n",
       "      <td>208.40</td>\n",
       "      <td>20100111</td>\n",
       "      <td>210.71</td>\n",
       "    </tr>\n",
       "    <tr>\n",
       "      <th>2</th>\n",
       "      <td>20100118</td>\n",
       "      <td>75.91</td>\n",
       "      <td>20100118</td>\n",
       "      <td>76.82</td>\n",
       "      <td>20100118</td>\n",
       "      <td>75.69</td>\n",
       "      <td>20100118</td>\n",
       "      <td>201.36</td>\n",
       "      <td>20100118</td>\n",
       "      <td>199.84</td>\n",
       "    </tr>\n",
       "    <tr>\n",
       "      <th>3</th>\n",
       "      <td>20100125</td>\n",
       "      <td>72.19</td>\n",
       "      <td>20100125</td>\n",
       "      <td>74.03</td>\n",
       "      <td>20100125</td>\n",
       "      <td>72.56</td>\n",
       "      <td>20100125</td>\n",
       "      <td>194.76</td>\n",
       "      <td>20100125</td>\n",
       "      <td>193.31</td>\n",
       "    </tr>\n",
       "    <tr>\n",
       "      <th>4</th>\n",
       "      <td>20100201</td>\n",
       "      <td>73.95</td>\n",
       "      <td>20100201</td>\n",
       "      <td>74.59</td>\n",
       "      <td>20100201</td>\n",
       "      <td>73.36</td>\n",
       "      <td>20100201</td>\n",
       "      <td>196.47</td>\n",
       "      <td>20100201</td>\n",
       "      <td>196.32</td>\n",
       "    </tr>\n",
       "  </tbody>\n",
       "</table>\n",
       "</div>"
      ],
      "text/plain": [
       "       date  dubai     date1    wti     date2  brent     date3  gasoline  \\\n",
       "0  20100104  79.51  20100104  82.37  20100104  81.10  20100104    213.12   \n",
       "1  20100111  79.07  20100111  80.07  20100111  78.70  20100111    208.40   \n",
       "2  20100118  75.91  20100118  76.82  20100118  75.69  20100118    201.36   \n",
       "3  20100125  72.19  20100125  74.03  20100125  72.56  20100125    194.76   \n",
       "4  20100201  73.95  20100201  74.59  20100201  73.36  20100201    196.47   \n",
       "\n",
       "      date4    warm  \n",
       "0  20100104  219.43  \n",
       "1  20100111  210.71  \n",
       "2  20100118  199.84  \n",
       "3  20100125  193.31  \n",
       "4  20100201  196.32  "
      ]
     },
     "execution_count": 10,
     "metadata": {},
     "output_type": "execute_result"
    }
   ],
   "source": [
    "oil.head()"
   ]
  },
  {
   "cell_type": "code",
   "execution_count": 11,
   "metadata": {},
   "outputs": [],
   "source": [
    "new_col=['date','price','open','high','low','tran','transition']\n",
    "\n",
    "for i in range(len(new_col)):\n",
    "    dollar.columns.values[i] = new_col[i]\n"
   ]
  },
  {
   "cell_type": "code",
   "execution_count": 12,
   "metadata": {},
   "outputs": [
    {
     "data": {
      "text/html": [
       "<div>\n",
       "<style scoped>\n",
       "    .dataframe tbody tr th:only-of-type {\n",
       "        vertical-align: middle;\n",
       "    }\n",
       "\n",
       "    .dataframe tbody tr th {\n",
       "        vertical-align: top;\n",
       "    }\n",
       "\n",
       "    .dataframe thead th {\n",
       "        text-align: right;\n",
       "    }\n",
       "</style>\n",
       "<table border=\"1\" class=\"dataframe\">\n",
       "  <thead>\n",
       "    <tr style=\"text-align: right;\">\n",
       "      <th></th>\n",
       "      <th>date</th>\n",
       "      <th>price</th>\n",
       "      <th>open</th>\n",
       "      <th>high</th>\n",
       "      <th>low</th>\n",
       "      <th>tran</th>\n",
       "      <th>transition</th>\n",
       "    </tr>\n",
       "  </thead>\n",
       "  <tbody>\n",
       "    <tr>\n",
       "      <th>0</th>\n",
       "      <td>2010년 01월 03일</td>\n",
       "      <td>77.47</td>\n",
       "      <td>77.92</td>\n",
       "      <td>78.19</td>\n",
       "      <td>77.09</td>\n",
       "      <td>-</td>\n",
       "      <td>-0.005</td>\n",
       "    </tr>\n",
       "    <tr>\n",
       "      <th>1</th>\n",
       "      <td>2010년 01월 10일</td>\n",
       "      <td>77.32</td>\n",
       "      <td>77.21</td>\n",
       "      <td>77.41</td>\n",
       "      <td>76.60</td>\n",
       "      <td>-</td>\n",
       "      <td>-0.0019</td>\n",
       "    </tr>\n",
       "    <tr>\n",
       "      <th>2</th>\n",
       "      <td>2010년 01월 17일</td>\n",
       "      <td>78.28</td>\n",
       "      <td>77.36</td>\n",
       "      <td>78.81</td>\n",
       "      <td>76.94</td>\n",
       "      <td>-</td>\n",
       "      <td>1.24%</td>\n",
       "    </tr>\n",
       "    <tr>\n",
       "      <th>3</th>\n",
       "      <td>2010년 01월 24일</td>\n",
       "      <td>79.46</td>\n",
       "      <td>78.23</td>\n",
       "      <td>79.50</td>\n",
       "      <td>78.03</td>\n",
       "      <td>-</td>\n",
       "      <td>1.51%</td>\n",
       "    </tr>\n",
       "    <tr>\n",
       "      <th>4</th>\n",
       "      <td>2010년 01월 31일</td>\n",
       "      <td>80.44</td>\n",
       "      <td>79.46</td>\n",
       "      <td>80.68</td>\n",
       "      <td>78.68</td>\n",
       "      <td>-</td>\n",
       "      <td>1.23%</td>\n",
       "    </tr>\n",
       "  </tbody>\n",
       "</table>\n",
       "</div>"
      ],
      "text/plain": [
       "            date  price   open   high    low tran transition\n",
       "0  2010년 01월 03일  77.47  77.92  78.19  77.09    -     -0.005\n",
       "1  2010년 01월 10일  77.32  77.21  77.41  76.60    -    -0.0019\n",
       "2  2010년 01월 17일  78.28  77.36  78.81  76.94    -      1.24%\n",
       "3  2010년 01월 24일  79.46  78.23  79.50  78.03    -      1.51%\n",
       "4  2010년 01월 31일  80.44  79.46  80.68  78.68    -      1.23%"
      ]
     },
     "execution_count": 12,
     "metadata": {},
     "output_type": "execute_result"
    }
   ],
   "source": [
    "dollar.head()"
   ]
  },
  {
   "cell_type": "code",
   "execution_count": 13,
   "metadata": {},
   "outputs": [
    {
     "data": {
      "text/plain": [
       "'2018-07-20'"
      ]
     },
     "execution_count": 13,
     "metadata": {},
     "output_type": "execute_result"
    }
   ],
   "source": [
    "iron.iloc[445,0]"
   ]
  },
  {
   "cell_type": "code",
   "execution_count": 14,
   "metadata": {},
   "outputs": [
    {
     "data": {
      "text/plain": [
       "Timestamp('2018-07-27 00:00:00')"
      ]
     },
     "execution_count": 14,
     "metadata": {},
     "output_type": "execute_result"
    }
   ],
   "source": [
    "iron.iloc[446,0]"
   ]
  },
  {
   "cell_type": "code",
   "execution_count": 15,
   "metadata": {},
   "outputs": [],
   "source": [
    "iron.iloc[446,0] = \"2018-07-27\"\n",
    "iron.iloc[447,0] = \"2018-08-03\"\n",
    "iron.iloc[448,0] = \"2018-08-10\""
   ]
  },
  {
   "cell_type": "code",
   "execution_count": 16,
   "metadata": {},
   "outputs": [],
   "source": [
    "slx=slx.drop(0)"
   ]
  },
  {
   "cell_type": "code",
   "execution_count": 17,
   "metadata": {},
   "outputs": [
    {
     "data": {
      "text/html": [
       "<div>\n",
       "<style scoped>\n",
       "    .dataframe tbody tr th:only-of-type {\n",
       "        vertical-align: middle;\n",
       "    }\n",
       "\n",
       "    .dataframe tbody tr th {\n",
       "        vertical-align: top;\n",
       "    }\n",
       "\n",
       "    .dataframe thead th {\n",
       "        text-align: right;\n",
       "    }\n",
       "</style>\n",
       "<table border=\"1\" class=\"dataframe\">\n",
       "  <thead>\n",
       "    <tr style=\"text-align: right;\">\n",
       "      <th></th>\n",
       "      <th>Date</th>\n",
       "      <th>Open</th>\n",
       "      <th>High</th>\n",
       "      <th>Low</th>\n",
       "      <th>Close</th>\n",
       "      <th>Adj Close</th>\n",
       "      <th>Volume</th>\n",
       "    </tr>\n",
       "  </thead>\n",
       "  <tbody>\n",
       "    <tr>\n",
       "      <th>0</th>\n",
       "      <td>2010-01-04</td>\n",
       "      <td>63.060001</td>\n",
       "      <td>67.879997</td>\n",
       "      <td>63.060001</td>\n",
       "      <td>67.550003</td>\n",
       "      <td>55.146149</td>\n",
       "      <td>1756800</td>\n",
       "    </tr>\n",
       "    <tr>\n",
       "      <th>1</th>\n",
       "      <td>2010-01-11</td>\n",
       "      <td>68.639999</td>\n",
       "      <td>68.860001</td>\n",
       "      <td>64.839996</td>\n",
       "      <td>65.000000</td>\n",
       "      <td>53.064384</td>\n",
       "      <td>1227200</td>\n",
       "    </tr>\n",
       "    <tr>\n",
       "      <th>2</th>\n",
       "      <td>2010-01-18</td>\n",
       "      <td>65.360001</td>\n",
       "      <td>66.690002</td>\n",
       "      <td>58.599998</td>\n",
       "      <td>58.900002</td>\n",
       "      <td>48.084503</td>\n",
       "      <td>1977600</td>\n",
       "    </tr>\n",
       "    <tr>\n",
       "      <th>3</th>\n",
       "      <td>2010-01-25</td>\n",
       "      <td>59.779999</td>\n",
       "      <td>60.660000</td>\n",
       "      <td>54.220001</td>\n",
       "      <td>54.509998</td>\n",
       "      <td>44.500618</td>\n",
       "      <td>2823800</td>\n",
       "    </tr>\n",
       "    <tr>\n",
       "      <th>4</th>\n",
       "      <td>2010-02-01</td>\n",
       "      <td>55.250000</td>\n",
       "      <td>59.000000</td>\n",
       "      <td>51.900002</td>\n",
       "      <td>54.369999</td>\n",
       "      <td>44.386322</td>\n",
       "      <td>2105700</td>\n",
       "    </tr>\n",
       "  </tbody>\n",
       "</table>\n",
       "</div>"
      ],
      "text/plain": [
       "         Date       Open       High        Low      Close  Adj Close   Volume\n",
       "0  2010-01-04  63.060001  67.879997  63.060001  67.550003  55.146149  1756800\n",
       "1  2010-01-11  68.639999  68.860001  64.839996  65.000000  53.064384  1227200\n",
       "2  2010-01-18  65.360001  66.690002  58.599998  58.900002  48.084503  1977600\n",
       "3  2010-01-25  59.779999  60.660000  54.220001  54.509998  44.500618  2823800\n",
       "4  2010-02-01  55.250000  59.000000  51.900002  54.369999  44.386322  2105700"
      ]
     },
     "execution_count": 17,
     "metadata": {},
     "output_type": "execute_result"
    }
   ],
   "source": [
    "slx=slx.reset_index()\n",
    "slx=slx.drop(\"index\",axis=1)\n",
    "slx.head()"
   ]
  },
  {
   "cell_type": "code",
   "execution_count": 18,
   "metadata": {},
   "outputs": [],
   "source": [
    "baltics = baltic['Price']"
   ]
  },
  {
   "cell_type": "code",
   "execution_count": 19,
   "metadata": {},
   "outputs": [
    {
     "data": {
      "text/plain": [
       "str"
      ]
     },
     "execution_count": 19,
     "metadata": {},
     "output_type": "execute_result"
    }
   ],
   "source": [
    "type(baltics[0])"
   ]
  },
  {
   "cell_type": "code",
   "execution_count": 20,
   "metadata": {},
   "outputs": [
    {
     "data": {
      "text/plain": [
       "0          3140\n",
       "1          3299\n",
       "2          3204\n",
       "3          2848\n",
       "4          2715\n",
       "         ...   \n",
       "446        1676\n",
       "447    1,773.00\n",
       "448    1,691.00\n",
       "449    1,723.00\n",
       "450    1,697.00\n",
       "Name: Price, Length: 451, dtype: object"
      ]
     },
     "execution_count": 20,
     "metadata": {},
     "output_type": "execute_result"
    }
   ],
   "source": [
    "baltics"
   ]
  },
  {
   "cell_type": "code",
   "execution_count": 21,
   "metadata": {},
   "outputs": [],
   "source": [
    "baltics=baltics.map(lambda x: str(x).replace(\".00\",\"\"))\n",
    "baltics=baltics.map(lambda x: str(x).replace(\",\",\"\"))"
   ]
  },
  {
   "cell_type": "code",
   "execution_count": 22,
   "metadata": {},
   "outputs": [],
   "source": [
    "baltics=baltics.astype(\"float64\")"
   ]
  },
  {
   "cell_type": "code",
   "execution_count": 23,
   "metadata": {},
   "outputs": [
    {
     "data": {
      "text/plain": [
       "446    1676.0\n",
       "447    1773.0\n",
       "448    1691.0\n",
       "449    1723.0\n",
       "450    1697.0\n",
       "Name: Price, dtype: float64"
      ]
     },
     "execution_count": 23,
     "metadata": {},
     "output_type": "execute_result"
    }
   ],
   "source": [
    "baltics.tail()"
   ]
  },
  {
   "cell_type": "code",
   "execution_count": 24,
   "metadata": {},
   "outputs": [],
   "source": [
    "c_price=pd.Series(iron.iloc[:,1])\n",
    "c_dollar=pd.Series(dollar.iloc[:,1])\n",
    "c_gold=pd.Series(gold.iloc[:,1])\n",
    "c_oil1=pd.Series(oil.iloc[:,1])\n",
    "c_oil2=pd.Series(oil.iloc[:,3])\n",
    "c_oil3=pd.Series(oil.iloc[:,5])\n",
    "c_oil4=pd.Series(oil.iloc[:,7])\n",
    "c_oil5=pd.Series(oil.iloc[:,9])\n",
    "c_slx=pd.Series(slx['Close'])\n",
    "c_baltic=baltics"
   ]
  },
  {
   "cell_type": "code",
   "execution_count": 26,
   "metadata": {},
   "outputs": [],
   "source": [
    "olddatafram = pd.concat([c_price,c_dollar,c_gold,c_oil1,c_oil2,c_oil3,c_oil4,c_oil5,c_slx,c_baltic],axis=1)"
   ]
  },
  {
   "cell_type": "code",
   "execution_count": 27,
   "metadata": {},
   "outputs": [],
   "source": [
    "olddatafram.columns = ['price','dollar','gold','oil1','oil2','oil3','oil4','oil5','SLX','baltic']"
   ]
  },
  {
   "cell_type": "code",
   "execution_count": 28,
   "metadata": {},
   "outputs": [
    {
     "data": {
      "text/html": [
       "<div>\n",
       "<style scoped>\n",
       "    .dataframe tbody tr th:only-of-type {\n",
       "        vertical-align: middle;\n",
       "    }\n",
       "\n",
       "    .dataframe tbody tr th {\n",
       "        vertical-align: top;\n",
       "    }\n",
       "\n",
       "    .dataframe thead th {\n",
       "        text-align: right;\n",
       "    }\n",
       "</style>\n",
       "<table border=\"1\" class=\"dataframe\">\n",
       "  <thead>\n",
       "    <tr style=\"text-align: right;\">\n",
       "      <th></th>\n",
       "      <th>price</th>\n",
       "      <th>dollar</th>\n",
       "      <th>gold</th>\n",
       "      <th>oil1</th>\n",
       "      <th>oil2</th>\n",
       "      <th>oil3</th>\n",
       "      <th>oil4</th>\n",
       "      <th>oil5</th>\n",
       "      <th>SLX</th>\n",
       "      <th>baltic</th>\n",
       "    </tr>\n",
       "  </thead>\n",
       "  <tbody>\n",
       "    <tr>\n",
       "      <th>0</th>\n",
       "      <td>135.0</td>\n",
       "      <td>77.47</td>\n",
       "      <td>1126.35</td>\n",
       "      <td>79.51</td>\n",
       "      <td>82.37</td>\n",
       "      <td>81.10</td>\n",
       "      <td>213.12</td>\n",
       "      <td>219.43</td>\n",
       "      <td>67.550003</td>\n",
       "      <td>3140.0</td>\n",
       "    </tr>\n",
       "    <tr>\n",
       "      <th>1</th>\n",
       "      <td>135.0</td>\n",
       "      <td>77.32</td>\n",
       "      <td>1139.55</td>\n",
       "      <td>79.07</td>\n",
       "      <td>80.07</td>\n",
       "      <td>78.70</td>\n",
       "      <td>208.40</td>\n",
       "      <td>210.71</td>\n",
       "      <td>65.000000</td>\n",
       "      <td>3299.0</td>\n",
       "    </tr>\n",
       "    <tr>\n",
       "      <th>2</th>\n",
       "      <td>131.5</td>\n",
       "      <td>78.28</td>\n",
       "      <td>1116.00</td>\n",
       "      <td>75.91</td>\n",
       "      <td>76.82</td>\n",
       "      <td>75.69</td>\n",
       "      <td>201.36</td>\n",
       "      <td>199.84</td>\n",
       "      <td>58.900002</td>\n",
       "      <td>3204.0</td>\n",
       "    </tr>\n",
       "    <tr>\n",
       "      <th>3</th>\n",
       "      <td>126.0</td>\n",
       "      <td>79.46</td>\n",
       "      <td>1089.95</td>\n",
       "      <td>72.19</td>\n",
       "      <td>74.03</td>\n",
       "      <td>72.56</td>\n",
       "      <td>194.76</td>\n",
       "      <td>193.31</td>\n",
       "      <td>54.509998</td>\n",
       "      <td>2848.0</td>\n",
       "    </tr>\n",
       "    <tr>\n",
       "      <th>4</th>\n",
       "      <td>128.5</td>\n",
       "      <td>80.44</td>\n",
       "      <td>1090.80</td>\n",
       "      <td>73.95</td>\n",
       "      <td>74.59</td>\n",
       "      <td>73.36</td>\n",
       "      <td>196.47</td>\n",
       "      <td>196.32</td>\n",
       "      <td>54.369999</td>\n",
       "      <td>2715.0</td>\n",
       "    </tr>\n",
       "  </tbody>\n",
       "</table>\n",
       "</div>"
      ],
      "text/plain": [
       "   price  dollar     gold   oil1   oil2   oil3    oil4    oil5        SLX  \\\n",
       "0  135.0   77.47  1126.35  79.51  82.37  81.10  213.12  219.43  67.550003   \n",
       "1  135.0   77.32  1139.55  79.07  80.07  78.70  208.40  210.71  65.000000   \n",
       "2  131.5   78.28  1116.00  75.91  76.82  75.69  201.36  199.84  58.900002   \n",
       "3  126.0   79.46  1089.95  72.19  74.03  72.56  194.76  193.31  54.509998   \n",
       "4  128.5   80.44  1090.80  73.95  74.59  73.36  196.47  196.32  54.369999   \n",
       "\n",
       "   baltic  \n",
       "0  3140.0  \n",
       "1  3299.0  \n",
       "2  3204.0  \n",
       "3  2848.0  \n",
       "4  2715.0  "
      ]
     },
     "execution_count": 28,
     "metadata": {},
     "output_type": "execute_result"
    }
   ],
   "source": [
    "olddatafram.head()"
   ]
  },
  {
   "cell_type": "code",
   "execution_count": 29,
   "metadata": {},
   "outputs": [
    {
     "data": {
      "text/html": [
       "<div>\n",
       "<style scoped>\n",
       "    .dataframe tbody tr th:only-of-type {\n",
       "        vertical-align: middle;\n",
       "    }\n",
       "\n",
       "    .dataframe tbody tr th {\n",
       "        vertical-align: top;\n",
       "    }\n",
       "\n",
       "    .dataframe thead th {\n",
       "        text-align: right;\n",
       "    }\n",
       "</style>\n",
       "<table border=\"1\" class=\"dataframe\">\n",
       "  <thead>\n",
       "    <tr style=\"text-align: right;\">\n",
       "      <th></th>\n",
       "      <th>price</th>\n",
       "      <th>dollar</th>\n",
       "      <th>gold</th>\n",
       "      <th>oil1</th>\n",
       "      <th>oil2</th>\n",
       "      <th>oil3</th>\n",
       "      <th>oil4</th>\n",
       "      <th>oil5</th>\n",
       "      <th>SLX</th>\n",
       "      <th>baltic</th>\n",
       "    </tr>\n",
       "  </thead>\n",
       "  <tbody>\n",
       "    <tr>\n",
       "      <th>446</th>\n",
       "      <td>66.23</td>\n",
       "      <td>94.67</td>\n",
       "      <td>1227.40</td>\n",
       "      <td>71.86</td>\n",
       "      <td>68.57</td>\n",
       "      <td>73.48</td>\n",
       "      <td>210.34</td>\n",
       "      <td>213.89</td>\n",
       "      <td>48.070000</td>\n",
       "      <td>1676.0</td>\n",
       "    </tr>\n",
       "    <tr>\n",
       "      <th>447</th>\n",
       "      <td>66.92</td>\n",
       "      <td>95.14</td>\n",
       "      <td>1219.10</td>\n",
       "      <td>72.51</td>\n",
       "      <td>68.80</td>\n",
       "      <td>73.76</td>\n",
       "      <td>209.36</td>\n",
       "      <td>213.40</td>\n",
       "      <td>46.939999</td>\n",
       "      <td>1773.0</td>\n",
       "    </tr>\n",
       "    <tr>\n",
       "      <th>448</th>\n",
       "      <td>69.44</td>\n",
       "      <td>96.36</td>\n",
       "      <td>1212.06</td>\n",
       "      <td>72.15</td>\n",
       "      <td>67.91</td>\n",
       "      <td>73.11</td>\n",
       "      <td>204.55</td>\n",
       "      <td>213.51</td>\n",
       "      <td>44.849998</td>\n",
       "      <td>1691.0</td>\n",
       "    </tr>\n",
       "    <tr>\n",
       "      <th>449</th>\n",
       "      <td>67.56</td>\n",
       "      <td>96.10</td>\n",
       "      <td>1187.63</td>\n",
       "      <td>70.74</td>\n",
       "      <td>66.12</td>\n",
       "      <td>71.82</td>\n",
       "      <td>200.29</td>\n",
       "      <td>211.01</td>\n",
       "      <td>43.490002</td>\n",
       "      <td>1723.0</td>\n",
       "    </tr>\n",
       "    <tr>\n",
       "      <th>450</th>\n",
       "      <td>66.85</td>\n",
       "      <td>95.15</td>\n",
       "      <td>1192.40</td>\n",
       "      <td>72.27</td>\n",
       "      <td>67.13</td>\n",
       "      <td>74.03</td>\n",
       "      <td>204.76</td>\n",
       "      <td>215.99</td>\n",
       "      <td>44.360001</td>\n",
       "      <td>1697.0</td>\n",
       "    </tr>\n",
       "  </tbody>\n",
       "</table>\n",
       "</div>"
      ],
      "text/plain": [
       "     price  dollar     gold   oil1   oil2   oil3    oil4    oil5        SLX  \\\n",
       "446  66.23   94.67  1227.40  71.86  68.57  73.48  210.34  213.89  48.070000   \n",
       "447  66.92   95.14  1219.10  72.51  68.80  73.76  209.36  213.40  46.939999   \n",
       "448  69.44   96.36  1212.06  72.15  67.91  73.11  204.55  213.51  44.849998   \n",
       "449  67.56   96.10  1187.63  70.74  66.12  71.82  200.29  211.01  43.490002   \n",
       "450  66.85   95.15  1192.40  72.27  67.13  74.03  204.76  215.99  44.360001   \n",
       "\n",
       "     baltic  \n",
       "446  1676.0  \n",
       "447  1773.0  \n",
       "448  1691.0  \n",
       "449  1723.0  \n",
       "450  1697.0  "
      ]
     },
     "execution_count": 29,
     "metadata": {},
     "output_type": "execute_result"
    }
   ],
   "source": [
    "olddatafram.tail()"
   ]
  },
  {
   "cell_type": "code",
   "execution_count": 32,
   "metadata": {},
   "outputs": [],
   "source": [
    "olddatafram.to_csv(r\"C:\\Users\\hyde2\\py_coding\\posco\\data\\olddf.csv\",index=False)"
   ]
  },
  {
   "cell_type": "markdown",
   "metadata": {},
   "source": [
    "# R PROGRAMMING START\n",
    "### 1week later prediction"
   ]
  },
  {
   "cell_type": "code",
   "execution_count": 2,
   "metadata": {},
   "outputs": [],
   "source": [
    "setwd(\"C:\\\\Users\\\\hyde2\\\\py_coding\\\\posco\\\\data\")"
   ]
  },
  {
   "cell_type": "code",
   "execution_count": 3,
   "metadata": {},
   "outputs": [],
   "source": [
    "olddatafram = read.csv(\"olddf.csv\")"
   ]
  },
  {
   "cell_type": "code",
   "execution_count": 4,
   "metadata": {},
   "outputs": [
    {
     "data": {
      "text/html": [
       "<table>\n",
       "<thead><tr><th scope=col>price</th><th scope=col>dollar</th><th scope=col>gold</th><th scope=col>oil1</th><th scope=col>oil2</th><th scope=col>oil3</th><th scope=col>oil4</th><th scope=col>oil5</th><th scope=col>SLX</th><th scope=col>baltic</th></tr></thead>\n",
       "<tbody>\n",
       "\t<tr><td>135.0  </td><td>77.47  </td><td>1126.35</td><td>79.51  </td><td>82.37  </td><td>81.10  </td><td>213.12 </td><td>219.43 </td><td>67.55  </td><td>3140   </td></tr>\n",
       "\t<tr><td>135.0  </td><td>77.32  </td><td>1139.55</td><td>79.07  </td><td>80.07  </td><td>78.70  </td><td>208.40 </td><td>210.71 </td><td>65.00  </td><td>3299   </td></tr>\n",
       "\t<tr><td>131.5  </td><td>78.28  </td><td>1116.00</td><td>75.91  </td><td>76.82  </td><td>75.69  </td><td>201.36 </td><td>199.84 </td><td>58.90  </td><td>3204   </td></tr>\n",
       "\t<tr><td>126.0  </td><td>79.46  </td><td>1089.95</td><td>72.19  </td><td>74.03  </td><td>72.56  </td><td>194.76 </td><td>193.31 </td><td>54.51  </td><td>2848   </td></tr>\n",
       "\t<tr><td>128.5  </td><td>80.44  </td><td>1090.80</td><td>73.95  </td><td>74.59  </td><td>73.36  </td><td>196.47 </td><td>196.32 </td><td>54.37  </td><td>2715   </td></tr>\n",
       "\t<tr><td>129.5  </td><td>80.32  </td><td>1072.60</td><td>71.21  </td><td>73.91  </td><td>72.15  </td><td>192.34 </td><td>193.03 </td><td>57.31  </td><td>2571   </td></tr>\n",
       "</tbody>\n",
       "</table>\n"
      ],
      "text/latex": [
       "\\begin{tabular}{r|llllllllll}\n",
       " price & dollar & gold & oil1 & oil2 & oil3 & oil4 & oil5 & SLX & baltic\\\\\n",
       "\\hline\n",
       "\t 135.0   & 77.47   & 1126.35 & 79.51   & 82.37   & 81.10   & 213.12  & 219.43  & 67.55   & 3140   \\\\\n",
       "\t 135.0   & 77.32   & 1139.55 & 79.07   & 80.07   & 78.70   & 208.40  & 210.71  & 65.00   & 3299   \\\\\n",
       "\t 131.5   & 78.28   & 1116.00 & 75.91   & 76.82   & 75.69   & 201.36  & 199.84  & 58.90   & 3204   \\\\\n",
       "\t 126.0   & 79.46   & 1089.95 & 72.19   & 74.03   & 72.56   & 194.76  & 193.31  & 54.51   & 2848   \\\\\n",
       "\t 128.5   & 80.44   & 1090.80 & 73.95   & 74.59   & 73.36   & 196.47  & 196.32  & 54.37   & 2715   \\\\\n",
       "\t 129.5   & 80.32   & 1072.60 & 71.21   & 73.91   & 72.15   & 192.34  & 193.03  & 57.31   & 2571   \\\\\n",
       "\\end{tabular}\n"
      ],
      "text/markdown": [
       "\n",
       "| price | dollar | gold | oil1 | oil2 | oil3 | oil4 | oil5 | SLX | baltic |\n",
       "|---|---|---|---|---|---|---|---|---|---|\n",
       "| 135.0   | 77.47   | 1126.35 | 79.51   | 82.37   | 81.10   | 213.12  | 219.43  | 67.55   | 3140    |\n",
       "| 135.0   | 77.32   | 1139.55 | 79.07   | 80.07   | 78.70   | 208.40  | 210.71  | 65.00   | 3299    |\n",
       "| 131.5   | 78.28   | 1116.00 | 75.91   | 76.82   | 75.69   | 201.36  | 199.84  | 58.90   | 3204    |\n",
       "| 126.0   | 79.46   | 1089.95 | 72.19   | 74.03   | 72.56   | 194.76  | 193.31  | 54.51   | 2848    |\n",
       "| 128.5   | 80.44   | 1090.80 | 73.95   | 74.59   | 73.36   | 196.47  | 196.32  | 54.37   | 2715    |\n",
       "| 129.5   | 80.32   | 1072.60 | 71.21   | 73.91   | 72.15   | 192.34  | 193.03  | 57.31   | 2571    |\n",
       "\n"
      ],
      "text/plain": [
       "  price dollar gold    oil1  oil2  oil3  oil4   oil5   SLX   baltic\n",
       "1 135.0 77.47  1126.35 79.51 82.37 81.10 213.12 219.43 67.55 3140  \n",
       "2 135.0 77.32  1139.55 79.07 80.07 78.70 208.40 210.71 65.00 3299  \n",
       "3 131.5 78.28  1116.00 75.91 76.82 75.69 201.36 199.84 58.90 3204  \n",
       "4 126.0 79.46  1089.95 72.19 74.03 72.56 194.76 193.31 54.51 2848  \n",
       "5 128.5 80.44  1090.80 73.95 74.59 73.36 196.47 196.32 54.37 2715  \n",
       "6 129.5 80.32  1072.60 71.21 73.91 72.15 192.34 193.03 57.31 2571  "
      ]
     },
     "metadata": {},
     "output_type": "display_data"
    }
   ],
   "source": [
    "head(olddatafram)"
   ]
  },
  {
   "cell_type": "code",
   "execution_count": 5,
   "metadata": {},
   "outputs": [
    {
     "data": {
      "text/html": [
       "<table>\n",
       "<thead><tr><th></th><th scope=col>price</th><th scope=col>dollar</th><th scope=col>gold</th><th scope=col>oil1</th><th scope=col>oil2</th><th scope=col>oil3</th><th scope=col>oil4</th><th scope=col>oil5</th><th scope=col>SLX</th><th scope=col>baltic</th></tr></thead>\n",
       "<tbody>\n",
       "\t<tr><th scope=row>446</th><td>64.85  </td><td>94.45  </td><td>1228.94</td><td>70.98  </td><td>68.96  </td><td>72.51  </td><td>203.70 </td><td>208.28 </td><td>46.04  </td><td>1689   </td></tr>\n",
       "\t<tr><th scope=row>447</th><td>66.23  </td><td>94.67  </td><td>1227.40</td><td>71.86  </td><td>68.57  </td><td>73.48  </td><td>210.34 </td><td>213.89 </td><td>48.07  </td><td>1676   </td></tr>\n",
       "\t<tr><th scope=row>448</th><td>66.92  </td><td>95.14  </td><td>1219.10</td><td>72.51  </td><td>68.80  </td><td>73.76  </td><td>209.36 </td><td>213.40 </td><td>46.94  </td><td>1773   </td></tr>\n",
       "\t<tr><th scope=row>449</th><td>69.44  </td><td>96.36  </td><td>1212.06</td><td>72.15  </td><td>67.91  </td><td>73.11  </td><td>204.55 </td><td>213.51 </td><td>44.85  </td><td>1691   </td></tr>\n",
       "\t<tr><th scope=row>450</th><td>67.56  </td><td>96.10  </td><td>1187.63</td><td>70.74  </td><td>66.12  </td><td>71.82  </td><td>200.29 </td><td>211.01 </td><td>43.49  </td><td>1723   </td></tr>\n",
       "\t<tr><th scope=row>451</th><td>66.85  </td><td>95.15  </td><td>1192.40</td><td>72.27  </td><td>67.13  </td><td>74.03  </td><td>204.76 </td><td>215.99 </td><td>44.36  </td><td>1697   </td></tr>\n",
       "</tbody>\n",
       "</table>\n"
      ],
      "text/latex": [
       "\\begin{tabular}{r|llllllllll}\n",
       "  & price & dollar & gold & oil1 & oil2 & oil3 & oil4 & oil5 & SLX & baltic\\\\\n",
       "\\hline\n",
       "\t446 & 64.85   & 94.45   & 1228.94 & 70.98   & 68.96   & 72.51   & 203.70  & 208.28  & 46.04   & 1689   \\\\\n",
       "\t447 & 66.23   & 94.67   & 1227.40 & 71.86   & 68.57   & 73.48   & 210.34  & 213.89  & 48.07   & 1676   \\\\\n",
       "\t448 & 66.92   & 95.14   & 1219.10 & 72.51   & 68.80   & 73.76   & 209.36  & 213.40  & 46.94   & 1773   \\\\\n",
       "\t449 & 69.44   & 96.36   & 1212.06 & 72.15   & 67.91   & 73.11   & 204.55  & 213.51  & 44.85   & 1691   \\\\\n",
       "\t450 & 67.56   & 96.10   & 1187.63 & 70.74   & 66.12   & 71.82   & 200.29  & 211.01  & 43.49   & 1723   \\\\\n",
       "\t451 & 66.85   & 95.15   & 1192.40 & 72.27   & 67.13   & 74.03   & 204.76  & 215.99  & 44.36   & 1697   \\\\\n",
       "\\end{tabular}\n"
      ],
      "text/markdown": [
       "\n",
       "| <!--/--> | price | dollar | gold | oil1 | oil2 | oil3 | oil4 | oil5 | SLX | baltic |\n",
       "|---|---|---|---|---|---|---|---|---|---|---|\n",
       "| 446 | 64.85   | 94.45   | 1228.94 | 70.98   | 68.96   | 72.51   | 203.70  | 208.28  | 46.04   | 1689    |\n",
       "| 447 | 66.23   | 94.67   | 1227.40 | 71.86   | 68.57   | 73.48   | 210.34  | 213.89  | 48.07   | 1676    |\n",
       "| 448 | 66.92   | 95.14   | 1219.10 | 72.51   | 68.80   | 73.76   | 209.36  | 213.40  | 46.94   | 1773    |\n",
       "| 449 | 69.44   | 96.36   | 1212.06 | 72.15   | 67.91   | 73.11   | 204.55  | 213.51  | 44.85   | 1691    |\n",
       "| 450 | 67.56   | 96.10   | 1187.63 | 70.74   | 66.12   | 71.82   | 200.29  | 211.01  | 43.49   | 1723    |\n",
       "| 451 | 66.85   | 95.15   | 1192.40 | 72.27   | 67.13   | 74.03   | 204.76  | 215.99  | 44.36   | 1697    |\n",
       "\n"
      ],
      "text/plain": [
       "    price dollar gold    oil1  oil2  oil3  oil4   oil5   SLX   baltic\n",
       "446 64.85 94.45  1228.94 70.98 68.96 72.51 203.70 208.28 46.04 1689  \n",
       "447 66.23 94.67  1227.40 71.86 68.57 73.48 210.34 213.89 48.07 1676  \n",
       "448 66.92 95.14  1219.10 72.51 68.80 73.76 209.36 213.40 46.94 1773  \n",
       "449 69.44 96.36  1212.06 72.15 67.91 73.11 204.55 213.51 44.85 1691  \n",
       "450 67.56 96.10  1187.63 70.74 66.12 71.82 200.29 211.01 43.49 1723  \n",
       "451 66.85 95.15  1192.40 72.27 67.13 74.03 204.76 215.99 44.36 1697  "
      ]
     },
     "metadata": {},
     "output_type": "display_data"
    }
   ],
   "source": [
    "tail(olddatafram)"
   ]
  },
  {
   "cell_type": "code",
   "execution_count": 6,
   "metadata": {},
   "outputs": [
    {
     "data": {
      "text/html": [
       "0"
      ],
      "text/latex": [
       "0"
      ],
      "text/markdown": [
       "0"
      ],
      "text/plain": [
       "[1] 0"
      ]
     },
     "metadata": {},
     "output_type": "display_data"
    }
   ],
   "source": [
    "sum(is.na(olddatafram$dollar))"
   ]
  },
  {
   "cell_type": "code",
   "execution_count": 7,
   "metadata": {},
   "outputs": [
    {
     "name": "stderr",
     "output_type": "stream",
     "text": [
      "Warning message:\n",
      "\"package 'tseries' was built under R version 3.6.2\"Registered S3 method overwritten by 'xts':\n",
      "  method     from\n",
      "  as.zoo.xts zoo \n",
      "Registered S3 method overwritten by 'quantmod':\n",
      "  method            from\n",
      "  as.zoo.data.frame zoo \n"
     ]
    }
   ],
   "source": [
    "#install.packages(\"tseries\")\n",
    "library(\"tseries\")"
   ]
  },
  {
   "cell_type": "code",
   "execution_count": 8,
   "metadata": {},
   "outputs": [
    {
     "name": "stderr",
     "output_type": "stream",
     "text": [
      "Warning message in adf.test(diff(log(goldprice)), alternative = \"stationary\", k = 0):\n",
      "\"p-value smaller than printed p-value\""
     ]
    },
    {
     "data": {
      "text/plain": [
       "\n",
       "\tAugmented Dickey-Fuller Test\n",
       "\n",
       "data:  diff(log(goldprice))\n",
       "Dickey-Fuller = -20.948, Lag order = 0, p-value = 0.01\n",
       "alternative hypothesis: stationary\n"
      ]
     },
     "metadata": {},
     "output_type": "display_data"
    }
   ],
   "source": [
    "dollarprice = na.omit(olddatafram$dollar)\n",
    "goldprice = ts(dollarprice, frequency=52)\n",
    "adf.test(diff(log(goldprice)),alternative=\"stationary\",k=0)"
   ]
  },
  {
   "cell_type": "code",
   "execution_count": 9,
   "metadata": {},
   "outputs": [
    {
     "name": "stderr",
     "output_type": "stream",
     "text": [
      "Warning message:\n",
      "\"package 'forecast' was built under R version 3.6.2\"Registered S3 methods overwritten by 'ggplot2':\n",
      "  method         from \n",
      "  [.quosures     rlang\n",
      "  c.quosures     rlang\n",
      "  print.quosures rlang\n",
      "Registered S3 methods overwritten by 'forecast':\n",
      "  method             from    \n",
      "  fitted.fracdiff    fracdiff\n",
      "  residuals.fracdiff fracdiff\n"
     ]
    }
   ],
   "source": [
    "library(forecast)"
   ]
  },
  {
   "cell_type": "code",
   "execution_count": 10,
   "metadata": {},
   "outputs": [],
   "source": [
    "fit <- arima(log(goldprice), c(1, 0, 1), \n",
    "             seasonal = list(order = c(0, 1, 1),period = 52))\n",
    "\n",
    "pred<-predict(fit,n.ahead=5)\n",
    "\n",
    "numbers<-pred$pred\n",
    "\n",
    "dollar_pred<-exp(numbers)"
   ]
  },
  {
   "cell_type": "code",
   "execution_count": 11,
   "metadata": {},
   "outputs": [
    {
     "name": "stdout",
     "output_type": "stream",
     "text": [
      "Time Series:\n",
      "Start = c(9, 36) \n",
      "End = c(9, 40) \n",
      "Frequency = 52 \n",
      "[1] 95.58008 94.63039 94.72041 94.83966 94.84015\n"
     ]
    }
   ],
   "source": [
    "print(dollar_pred)"
   ]
  },
  {
   "cell_type": "code",
   "execution_count": 12,
   "metadata": {},
   "outputs": [
    {
     "name": "stderr",
     "output_type": "stream",
     "text": [
      "Warning message in adf.test(diff(log(goldprice)), alternative = \"stationary\", k = 0):\n",
      "\"p-value smaller than printed p-value\""
     ]
    },
    {
     "data": {
      "text/plain": [
       "\n",
       "\tAugmented Dickey-Fuller Test\n",
       "\n",
       "data:  diff(log(goldprice))\n",
       "Dickey-Fuller = -17.015, Lag order = 0, p-value = 0.01\n",
       "alternative hypothesis: stationary\n"
      ]
     },
     "metadata": {},
     "output_type": "display_data"
    },
    {
     "name": "stderr",
     "output_type": "stream",
     "text": [
      "Warning message in adf.test(diff(log(goldprice)), alternative = \"stationary\", k = 0):\n",
      "\"p-value smaller than printed p-value\""
     ]
    },
    {
     "data": {
      "text/plain": [
       "\n",
       "\tAugmented Dickey-Fuller Test\n",
       "\n",
       "data:  diff(log(goldprice))\n",
       "Dickey-Fuller = -16.184, Lag order = 0, p-value = 0.01\n",
       "alternative hypothesis: stationary\n"
      ]
     },
     "metadata": {},
     "output_type": "display_data"
    },
    {
     "name": "stderr",
     "output_type": "stream",
     "text": [
      "Warning message in adf.test(diff(log(goldprice)), alternative = \"stationary\", k = 0):\n",
      "\"p-value smaller than printed p-value\""
     ]
    },
    {
     "data": {
      "text/plain": [
       "\n",
       "\tAugmented Dickey-Fuller Test\n",
       "\n",
       "data:  diff(log(goldprice))\n",
       "Dickey-Fuller = -16.352, Lag order = 0, p-value = 0.01\n",
       "alternative hypothesis: stationary\n"
      ]
     },
     "metadata": {},
     "output_type": "display_data"
    },
    {
     "name": "stderr",
     "output_type": "stream",
     "text": [
      "Warning message in adf.test(diff(log(goldprice)), alternative = \"stationary\", k = 0):\n",
      "\"p-value smaller than printed p-value\""
     ]
    },
    {
     "data": {
      "text/plain": [
       "\n",
       "\tAugmented Dickey-Fuller Test\n",
       "\n",
       "data:  diff(log(goldprice))\n",
       "Dickey-Fuller = -15.764, Lag order = 0, p-value = 0.01\n",
       "alternative hypothesis: stationary\n"
      ]
     },
     "metadata": {},
     "output_type": "display_data"
    },
    {
     "name": "stderr",
     "output_type": "stream",
     "text": [
      "Warning message in adf.test(diff(log(goldprice)), alternative = \"stationary\", k = 0):\n",
      "\"p-value smaller than printed p-value\""
     ]
    },
    {
     "data": {
      "text/plain": [
       "\n",
       "\tAugmented Dickey-Fuller Test\n",
       "\n",
       "data:  diff(log(goldprice))\n",
       "Dickey-Fuller = -16.573, Lag order = 0, p-value = 0.01\n",
       "alternative hypothesis: stationary\n"
      ]
     },
     "metadata": {},
     "output_type": "display_data"
    },
    {
     "name": "stderr",
     "output_type": "stream",
     "text": [
      "Warning message in adf.test(diff(log(goldprice)), alternative = \"stationary\", k = 0):\n",
      "\"p-value smaller than printed p-value\""
     ]
    },
    {
     "data": {
      "text/plain": [
       "\n",
       "\tAugmented Dickey-Fuller Test\n",
       "\n",
       "data:  diff(log(goldprice))\n",
       "Dickey-Fuller = -16.235, Lag order = 0, p-value = 0.01\n",
       "alternative hypothesis: stationary\n"
      ]
     },
     "metadata": {},
     "output_type": "display_data"
    },
    {
     "name": "stderr",
     "output_type": "stream",
     "text": [
      "Warning message in adf.test(diff(log(goldprice)), alternative = \"stationary\", k = 0):\n",
      "\"p-value smaller than printed p-value\""
     ]
    },
    {
     "data": {
      "text/plain": [
       "\n",
       "\tAugmented Dickey-Fuller Test\n",
       "\n",
       "data:  diff(log(goldprice))\n",
       "Dickey-Fuller = -21.322, Lag order = 0, p-value = 0.01\n",
       "alternative hypothesis: stationary\n"
      ]
     },
     "metadata": {},
     "output_type": "display_data"
    }
   ],
   "source": [
    "\n",
    "#2.금값\n",
    "dollarprice<-na.omit(olddatafram$gold)\n",
    "\n",
    "goldprice<-ts(dollarprice,frequency=52)\n",
    "\n",
    "\n",
    "library(tseries)\n",
    "\n",
    "adf.test(diff(log(goldprice)),alternative=\"stationary\",k=0)\n",
    "\n",
    "library(forecast)\n",
    "\n",
    "\n",
    "\n",
    "fit <- arima(log(goldprice), c(1, 0, 1), \n",
    "             seasonal = list(order = c(0, 1, 1),period = 52))\n",
    "\n",
    "pred<-predict(fit,n.ahead=5)\n",
    "\n",
    "numbers<-pred$pred\n",
    "\n",
    "gold_pred<-exp(numbers)\n",
    "\n",
    "\n",
    "#3.두바이\n",
    "dollarprice<-na.omit(olddatafram$oil1)\n",
    "\n",
    "goldprice<-ts(dollarprice,frequency=52)\n",
    "\n",
    "\n",
    "library(tseries)\n",
    "\n",
    "adf.test(diff(log(goldprice)),alternative=\"stationary\",k=0)\n",
    "\n",
    "library(forecast)\n",
    "\n",
    "\n",
    "fit <- arima(log(goldprice), c(1, 0, 1), \n",
    "             seasonal = list(order = c(0, 1, 1),period = 52))\n",
    "\n",
    "pred<-predict(fit,n.ahead=5)\n",
    "\n",
    "numbers<-pred$pred\n",
    "\n",
    "dubai_pred<-exp(numbers)\n",
    "\n",
    "#4. wti\n",
    "\n",
    "dollarprice<-na.omit(olddatafram$oil2)\n",
    "\n",
    "goldprice<-ts(dollarprice,frequency=52)\n",
    "\n",
    "\n",
    "library(tseries)\n",
    "\n",
    "adf.test(diff(log(goldprice)),alternative=\"stationary\",k=0)\n",
    "\n",
    "library(forecast)\n",
    "\n",
    "\n",
    "\n",
    "fit <- arima(log(goldprice), c(1, 0, 1), \n",
    "             seasonal = list(order = c(0, 1, 1),period = 52))\n",
    "\n",
    "pred<-predict(fit,n.ahead=5)\n",
    "\n",
    "numbers<-pred$pred\n",
    "\n",
    "wti_pred<-exp(numbers)\n",
    "\n",
    "\n",
    "#5.brent\n",
    "\n",
    "dollarprice<-na.omit(olddatafram$oil3)\n",
    "\n",
    "goldprice<-ts(dollarprice,frequency=52)\n",
    "\n",
    "\n",
    "library(tseries)\n",
    "\n",
    "adf.test(diff(log(goldprice)),alternative=\"stationary\",k=0)\n",
    "\n",
    "library(forecast)\n",
    "\n",
    "\n",
    "fit <- arima(log(goldprice), c(1, 0, 1), \n",
    "             seasonal = list(order = c(0, 1, 1),period = 52))\n",
    "\n",
    "pred<-predict(fit,n.ahead=5)\n",
    "\n",
    "numbers<-pred$pred\n",
    "\n",
    "brent_pred<-exp(numbers)\n",
    "\n",
    "\n",
    "#6.gasoline\n",
    "\n",
    "dollarprice<-na.omit(olddatafram$oil4)\n",
    "\n",
    "goldprice<-ts(dollarprice,frequency=52)\n",
    "\n",
    "\n",
    "library(tseries)\n",
    "\n",
    "adf.test(diff(log(goldprice)),alternative=\"stationary\",k=0)\n",
    "\n",
    "library(forecast)\n",
    "\n",
    "\n",
    "fit <- arima(log(goldprice), c(1, 0, 1), \n",
    "             seasonal = list(order = c(0, 1, 1),period = 52))\n",
    "\n",
    "pred<-predict(fit,n.ahead=5)\n",
    "\n",
    "numbers<-pred$pred\n",
    "\n",
    "gasoline_pred<-exp(numbers)\n",
    "\n",
    "\n",
    "#7. warm\n",
    "\n",
    "dollarprice<-na.omit(olddatafram$oil5)\n",
    "\n",
    "goldprice<-ts(dollarprice,frequency=52)\n",
    "\n",
    "\n",
    "library(tseries)\n",
    "\n",
    "adf.test(diff(log(goldprice)),alternative=\"stationary\",k=0)\n",
    "\n",
    "library(forecast)\n",
    "\n",
    "\n",
    "\n",
    "fit <- arima(log(goldprice), c(1, 0, 1), \n",
    "             seasonal = list(order = c(0, 1, 1),period = 52))\n",
    "\n",
    "pred<-predict(fit,n.ahead=5)\n",
    "\n",
    "numbers<-pred$pred\n",
    "\n",
    "warm_pred<-exp(numbers)\n",
    "\n",
    "#8. SLX\n",
    "\n",
    "dollarprice<-na.omit(olddatafram$SLX)\n",
    "\n",
    "goldprice<-ts(dollarprice,frequency=52)\n",
    "\n",
    "library(tseries)\n",
    "\n",
    "adf.test(diff(log(goldprice)),alternative=\"stationary\",k=0)\n",
    "\n",
    "library(forecast)\n",
    "\n",
    "fit <- arima(log(goldprice), c(1, 0, 1), \n",
    "             seasonal = list(order = c(0, 1, 1),period = 52))\n",
    "\n",
    "pred<-predict(fit,n.ahead=5)\n",
    "\n",
    "numbers<-pred$pred\n",
    "\n",
    "SLX_pred<-exp(numbers)\n",
    "\n"
   ]
  },
  {
   "cell_type": "code",
   "execution_count": 13,
   "metadata": {},
   "outputs": [
    {
     "name": "stderr",
     "output_type": "stream",
     "text": [
      "Warning message in adf.test(diff(log(goldprice)), alternative = \"stationary\", k = 0):\n",
      "\"p-value smaller than printed p-value\""
     ]
    },
    {
     "data": {
      "text/plain": [
       "\n",
       "\tAugmented Dickey-Fuller Test\n",
       "\n",
       "data:  diff(log(goldprice))\n",
       "Dickey-Fuller = -13.636, Lag order = 0, p-value = 0.01\n",
       "alternative hypothesis: stationary\n"
      ]
     },
     "metadata": {},
     "output_type": "display_data"
    }
   ],
   "source": [
    "#9.baltic index\n",
    "\n",
    "dollarprice<-na.omit(olddatafram$baltic)\n",
    "\n",
    "goldprice<-ts(dollarprice,frequency=52)\n",
    "\n",
    "\n",
    "library(tseries)\n",
    "\n",
    "adf.test(diff(log(goldprice)),alternative=\"stationary\",k=0)\n",
    "\n",
    "library(forecast)\n",
    "\n",
    "fit <- arima(log(goldprice), c(1, 0, 1), \n",
    "             seasonal = list(order = c(0, 1, 1),period = 52))\n",
    "\n",
    "pred<-predict(fit,n.ahead=5)\n",
    "\n",
    "numbers<-pred$pred\n",
    "\n",
    "baltic_pred<-exp(numbers)"
   ]
  },
  {
   "cell_type": "code",
   "execution_count": 14,
   "metadata": {},
   "outputs": [
    {
     "data": {
      "text/html": [
       "<table>\n",
       "<thead><tr><th scope=col>price</th><th scope=col>dollar</th><th scope=col>gold</th><th scope=col>oil1</th><th scope=col>oil2</th><th scope=col>oil3</th><th scope=col>oil4</th><th scope=col>oil5</th><th scope=col>SLX</th><th scope=col>baltic</th></tr></thead>\n",
       "<tbody>\n",
       "\t<tr><td>0       </td><td>95.58008</td><td>1197.731</td><td>73.20018</td><td>68.03963</td><td>75.48686</td><td>205.7910</td><td>220.9578</td><td>45.04684</td><td>1697.098</td></tr>\n",
       "\t<tr><td>0       </td><td>94.63039</td><td>1195.070</td><td>73.16866</td><td>68.48934</td><td>75.37257</td><td>199.2947</td><td>220.8186</td><td>45.66938</td><td>1772.879</td></tr>\n",
       "\t<tr><td>0       </td><td>94.72041</td><td>1189.193</td><td>72.23126</td><td>67.39683</td><td>74.07292</td><td>197.3528</td><td>217.0532</td><td>44.17070</td><td>1811.677</td></tr>\n",
       "\t<tr><td>0       </td><td>94.83966</td><td>1179.024</td><td>71.81782</td><td>67.28564</td><td>74.13664</td><td>198.9971</td><td>217.8103</td><td>43.37552</td><td>1890.734</td></tr>\n",
       "\t<tr><td>0       </td><td>94.84015</td><td>1180.570</td><td>72.03707</td><td>68.02517</td><td>74.74583</td><td>198.0102</td><td>219.8582</td><td>43.74806</td><td>1961.258</td></tr>\n",
       "</tbody>\n",
       "</table>\n"
      ],
      "text/latex": [
       "\\begin{tabular}{r|llllllllll}\n",
       " price & dollar & gold & oil1 & oil2 & oil3 & oil4 & oil5 & SLX & baltic\\\\\n",
       "\\hline\n",
       "\t 0        & 95.58008 & 1197.731 & 73.20018 & 68.03963 & 75.48686 & 205.7910 & 220.9578 & 45.04684 & 1697.098\\\\\n",
       "\t 0        & 94.63039 & 1195.070 & 73.16866 & 68.48934 & 75.37257 & 199.2947 & 220.8186 & 45.66938 & 1772.879\\\\\n",
       "\t 0        & 94.72041 & 1189.193 & 72.23126 & 67.39683 & 74.07292 & 197.3528 & 217.0532 & 44.17070 & 1811.677\\\\\n",
       "\t 0        & 94.83966 & 1179.024 & 71.81782 & 67.28564 & 74.13664 & 198.9971 & 217.8103 & 43.37552 & 1890.734\\\\\n",
       "\t 0        & 94.84015 & 1180.570 & 72.03707 & 68.02517 & 74.74583 & 198.0102 & 219.8582 & 43.74806 & 1961.258\\\\\n",
       "\\end{tabular}\n"
      ],
      "text/markdown": [
       "\n",
       "| price | dollar | gold | oil1 | oil2 | oil3 | oil4 | oil5 | SLX | baltic |\n",
       "|---|---|---|---|---|---|---|---|---|---|\n",
       "| 0        | 95.58008 | 1197.731 | 73.20018 | 68.03963 | 75.48686 | 205.7910 | 220.9578 | 45.04684 | 1697.098 |\n",
       "| 0        | 94.63039 | 1195.070 | 73.16866 | 68.48934 | 75.37257 | 199.2947 | 220.8186 | 45.66938 | 1772.879 |\n",
       "| 0        | 94.72041 | 1189.193 | 72.23126 | 67.39683 | 74.07292 | 197.3528 | 217.0532 | 44.17070 | 1811.677 |\n",
       "| 0        | 94.83966 | 1179.024 | 71.81782 | 67.28564 | 74.13664 | 198.9971 | 217.8103 | 43.37552 | 1890.734 |\n",
       "| 0        | 94.84015 | 1180.570 | 72.03707 | 68.02517 | 74.74583 | 198.0102 | 219.8582 | 43.74806 | 1961.258 |\n",
       "\n"
      ],
      "text/plain": [
       "  price dollar   gold     oil1     oil2     oil3     oil4     oil5     SLX     \n",
       "1 0     95.58008 1197.731 73.20018 68.03963 75.48686 205.7910 220.9578 45.04684\n",
       "2 0     94.63039 1195.070 73.16866 68.48934 75.37257 199.2947 220.8186 45.66938\n",
       "3 0     94.72041 1189.193 72.23126 67.39683 74.07292 197.3528 217.0532 44.17070\n",
       "4 0     94.83966 1179.024 71.81782 67.28564 74.13664 198.9971 217.8103 43.37552\n",
       "5 0     94.84015 1180.570 72.03707 68.02517 74.74583 198.0102 219.8582 43.74806\n",
       "  baltic  \n",
       "1 1697.098\n",
       "2 1772.879\n",
       "3 1811.677\n",
       "4 1890.734\n",
       "5 1961.258"
      ]
     },
     "metadata": {},
     "output_type": "display_data"
    }
   ],
   "source": [
    "datafram<-data.frame(price=c(0,0,0,0,0),dollar=dollar_pred,gold=gold_pred,oil1=dubai_pred,oil2=wti_pred,oil3=brent_pred,oil4=gasoline_pred,oil5=warm_pred,SLX=SLX_pred,baltic=baltic_pred)\n",
    "datafram"
   ]
  },
  {
   "cell_type": "code",
   "execution_count": 15,
   "metadata": {},
   "outputs": [
    {
     "name": "stderr",
     "output_type": "stream",
     "text": [
      "Warning message:\n",
      "\"package 'randomForest' was built under R version 3.6.2\"randomForest 4.6-14\n",
      "Type rfNews() to see new features/changes/bug fixes.\n"
     ]
    },
    {
     "data": {
      "text/html": [
       "<table>\n",
       "<thead><tr><th scope=col>price</th><th scope=col>dollar</th><th scope=col>gold</th><th scope=col>oil1</th><th scope=col>oil2</th><th scope=col>oil3</th><th scope=col>oil4</th><th scope=col>oil5</th><th scope=col>SLX</th><th scope=col>baltic</th></tr></thead>\n",
       "<tbody>\n",
       "\t<tr><td>135.0  </td><td>77.47  </td><td>1126.35</td><td>79.51  </td><td>82.37  </td><td>81.10  </td><td>213.12 </td><td>219.43 </td><td>67.55  </td><td>3140   </td></tr>\n",
       "\t<tr><td>135.0  </td><td>77.32  </td><td>1139.55</td><td>79.07  </td><td>80.07  </td><td>78.70  </td><td>208.40 </td><td>210.71 </td><td>65.00  </td><td>3299   </td></tr>\n",
       "\t<tr><td>131.5  </td><td>78.28  </td><td>1116.00</td><td>75.91  </td><td>76.82  </td><td>75.69  </td><td>201.36 </td><td>199.84 </td><td>58.90  </td><td>3204   </td></tr>\n",
       "\t<tr><td>126.0  </td><td>79.46  </td><td>1089.95</td><td>72.19  </td><td>74.03  </td><td>72.56  </td><td>194.76 </td><td>193.31 </td><td>54.51  </td><td>2848   </td></tr>\n",
       "\t<tr><td>128.5  </td><td>80.44  </td><td>1090.80</td><td>73.95  </td><td>74.59  </td><td>73.36  </td><td>196.47 </td><td>196.32 </td><td>54.37  </td><td>2715   </td></tr>\n",
       "\t<tr><td>129.5  </td><td>80.32  </td><td>1072.60</td><td>71.21  </td><td>73.91  </td><td>72.15  </td><td>192.34 </td><td>193.03 </td><td>57.31  </td><td>2571   </td></tr>\n",
       "</tbody>\n",
       "</table>\n"
      ],
      "text/latex": [
       "\\begin{tabular}{r|llllllllll}\n",
       " price & dollar & gold & oil1 & oil2 & oil3 & oil4 & oil5 & SLX & baltic\\\\\n",
       "\\hline\n",
       "\t 135.0   & 77.47   & 1126.35 & 79.51   & 82.37   & 81.10   & 213.12  & 219.43  & 67.55   & 3140   \\\\\n",
       "\t 135.0   & 77.32   & 1139.55 & 79.07   & 80.07   & 78.70   & 208.40  & 210.71  & 65.00   & 3299   \\\\\n",
       "\t 131.5   & 78.28   & 1116.00 & 75.91   & 76.82   & 75.69   & 201.36  & 199.84  & 58.90   & 3204   \\\\\n",
       "\t 126.0   & 79.46   & 1089.95 & 72.19   & 74.03   & 72.56   & 194.76  & 193.31  & 54.51   & 2848   \\\\\n",
       "\t 128.5   & 80.44   & 1090.80 & 73.95   & 74.59   & 73.36   & 196.47  & 196.32  & 54.37   & 2715   \\\\\n",
       "\t 129.5   & 80.32   & 1072.60 & 71.21   & 73.91   & 72.15   & 192.34  & 193.03  & 57.31   & 2571   \\\\\n",
       "\\end{tabular}\n"
      ],
      "text/markdown": [
       "\n",
       "| price | dollar | gold | oil1 | oil2 | oil3 | oil4 | oil5 | SLX | baltic |\n",
       "|---|---|---|---|---|---|---|---|---|---|\n",
       "| 135.0   | 77.47   | 1126.35 | 79.51   | 82.37   | 81.10   | 213.12  | 219.43  | 67.55   | 3140    |\n",
       "| 135.0   | 77.32   | 1139.55 | 79.07   | 80.07   | 78.70   | 208.40  | 210.71  | 65.00   | 3299    |\n",
       "| 131.5   | 78.28   | 1116.00 | 75.91   | 76.82   | 75.69   | 201.36  | 199.84  | 58.90   | 3204    |\n",
       "| 126.0   | 79.46   | 1089.95 | 72.19   | 74.03   | 72.56   | 194.76  | 193.31  | 54.51   | 2848    |\n",
       "| 128.5   | 80.44   | 1090.80 | 73.95   | 74.59   | 73.36   | 196.47  | 196.32  | 54.37   | 2715    |\n",
       "| 129.5   | 80.32   | 1072.60 | 71.21   | 73.91   | 72.15   | 192.34  | 193.03  | 57.31   | 2571    |\n",
       "\n"
      ],
      "text/plain": [
       "  price dollar gold    oil1  oil2  oil3  oil4   oil5   SLX   baltic\n",
       "1 135.0 77.47  1126.35 79.51 82.37 81.10 213.12 219.43 67.55 3140  \n",
       "2 135.0 77.32  1139.55 79.07 80.07 78.70 208.40 210.71 65.00 3299  \n",
       "3 131.5 78.28  1116.00 75.91 76.82 75.69 201.36 199.84 58.90 3204  \n",
       "4 126.0 79.46  1089.95 72.19 74.03 72.56 194.76 193.31 54.51 2848  \n",
       "5 128.5 80.44  1090.80 73.95 74.59 73.36 196.47 196.32 54.37 2715  \n",
       "6 129.5 80.32  1072.60 71.21 73.91 72.15 192.34 193.03 57.31 2571  "
      ]
     },
     "metadata": {},
     "output_type": "display_data"
    }
   ],
   "source": [
    "## 배깅 모델링\n",
    "\n",
    "library(randomForest)\n",
    "\n",
    "head(olddatafram)\n",
    "\n",
    "olddatafram_r<-na.omit(olddatafram)\n",
    "\n",
    "set.seed(1)\n",
    "\n",
    "f.bag<-randomForest(price ~ gold+oil1+oil2+oil3+oil4+oil5+dollar+SLX+baltic,\n",
    "                    data = olddatafram_r ,\n",
    "                    ntree=500,\n",
    "                    mtry = 9,  # using some predictors = r.f.\n",
    "                    importance =TRUE)\n"
   ]
  },
  {
   "cell_type": "code",
   "execution_count": 16,
   "metadata": {},
   "outputs": [],
   "source": [
    "pred.bag<-predict(f.bag,newdata=datafram)"
   ]
  },
  {
   "cell_type": "code",
   "execution_count": 17,
   "metadata": {},
   "outputs": [
    {
     "data": {
      "text/html": [
       "<dl class=dl-horizontal>\n",
       "\t<dt>1</dt>\n",
       "\t\t<dd>67.2887749999999</dd>\n",
       "\t<dt>2</dt>\n",
       "\t\t<dd>66.5056576666667</dd>\n",
       "\t<dt>3</dt>\n",
       "\t\t<dd>67.0363346666667</dd>\n",
       "\t<dt>4</dt>\n",
       "\t\t<dd>67.143048</dd>\n",
       "\t<dt>5</dt>\n",
       "\t\t<dd>67.2079853333334</dd>\n",
       "</dl>\n"
      ],
      "text/latex": [
       "\\begin{description*}\n",
       "\\item[1] 67.2887749999999\n",
       "\\item[2] 66.5056576666667\n",
       "\\item[3] 67.0363346666667\n",
       "\\item[4] 67.143048\n",
       "\\item[5] 67.2079853333334\n",
       "\\end{description*}\n"
      ],
      "text/markdown": [
       "1\n",
       ":   67.28877499999992\n",
       ":   66.50565766666673\n",
       ":   67.03633466666674\n",
       ":   67.1430485\n",
       ":   67.2079853333334\n",
       "\n"
      ],
      "text/plain": [
       "       1        2        3        4        5 \n",
       "67.28877 66.50566 67.03633 67.14305 67.20799 "
      ]
     },
     "metadata": {},
     "output_type": "display_data"
    }
   ],
   "source": [
    "pred.bag"
   ]
  },
  {
   "cell_type": "code",
   "execution_count": 18,
   "metadata": {},
   "outputs": [
    {
     "name": "stderr",
     "output_type": "stream",
     "text": [
      "Warning message in adf.test(diff(log(goldprice)), alternative = \"stationary\", k = 0):\n",
      "\"p-value smaller than printed p-value\""
     ]
    },
    {
     "data": {
      "text/plain": [
       "\n",
       "\tAugmented Dickey-Fuller Test\n",
       "\n",
       "data:  diff(log(goldprice))\n",
       "Dickey-Fuller = -15.283, Lag order = 0, p-value = 0.01\n",
       "alternative hypothesis: stationary\n"
      ]
     },
     "metadata": {},
     "output_type": "display_data"
    },
    {
     "data": {
      "text/plain": [
       "Series: diff(log(goldprice)) \n",
       "ARIMA(3,0,0)(1,0,0)[52] with zero mean \n",
       "\n",
       "Coefficients:\n",
       "         ar1     ar2      ar3     sar1\n",
       "      0.2942  0.0724  -0.0544  -0.0066\n",
       "s.e.  0.0475  0.0498   0.0445   0.0535\n",
       "\n",
       "sigma^2 estimated as 0.001376:  log likelihood=838.31\n",
       "AIC=-1666.63   AICc=-1666.49   BIC=-1646.13"
      ]
     },
     "metadata": {},
     "output_type": "display_data"
    }
   ],
   "source": [
    "##철광석 ARIMA 분석\n",
    "\n",
    "dollarprice<-na.omit(olddatafram$price)\n",
    "\n",
    "goldprice<-ts(dollarprice,frequency=52)\n",
    "\n",
    "\n",
    "library(tseries)\n",
    "\n",
    "adf.test(diff(log(goldprice)),alternative=\"stationary\",k=0)\n",
    "\n",
    "library(forecast)\n",
    "\n",
    "auto.arima(diff(log(goldprice)))\n",
    "\n",
    "\n",
    "fit <- arima(log(goldprice), c(1, 0, 1), \n",
    "             seasonal = list(order = c(0, 1, 1),period = 52))\n",
    "\n",
    "\n",
    "pred<-predict(fit,n.ahead=5)\n",
    "\n",
    "numbers<-pred$pred\n",
    "\n",
    "price_pred<-exp(numbers)\n"
   ]
  },
  {
   "cell_type": "code",
   "execution_count": 19,
   "metadata": {},
   "outputs": [
    {
     "name": "stdout",
     "output_type": "stream",
     "text": [
      "Time Series:\n",
      "Start = c(9, 32) \n",
      "End = c(9, 36) \n",
      "Frequency = 52 \n",
      "[1] 66.09279 66.31582 66.34928 64.96733 64.25361\n"
     ]
    }
   ],
   "source": [
    "print(price_pred)"
   ]
  },
  {
   "cell_type": "code",
   "execution_count": 20,
   "metadata": {},
   "outputs": [
    {
     "name": "stdout",
     "output_type": "stream",
     "text": [
      "       1 \n",
      "66.69078 \n"
     ]
    }
   ],
   "source": [
    "final_1<-(price_pred+pred.bag)/2\n",
    "final_1<-final_1[1]\n",
    "print(final_1) #1주뒤 철광석 가격 예측"
   ]
  },
  {
   "cell_type": "markdown",
   "metadata": {},
   "source": [
    "### 3week later prediction(and after prediction of 3week, we will do 2week later prediction.)\n"
   ]
  },
  {
   "cell_type": "markdown",
   "metadata": {},
   "source": []
  },
  {
   "cell_type": "code",
   "execution_count": 23,
   "metadata": {},
   "outputs": [],
   "source": [
    "##철광석 ARIMA 분석\n",
    "\n",
    "dollarprice<-olddatafram$price\n",
    "\n",
    "goldprice<-ts(dollarprice,frequency=52)\n",
    "\n",
    "library(tseries)\n",
    "\n",
    "\n",
    "library(forecast)\n",
    "\n",
    "\n",
    "\n",
    "fit <- arima(log(goldprice), c(1, 0, 1), \n",
    "           seasonal = list(order = c(0, 1, 1),period = 52))\n",
    "\n",
    "\n",
    "pred<-predict(fit,n.ahead=5)\n",
    "\n",
    "numbers<-pred$pred\n",
    "\n",
    "price_pred<-exp(numbers)\n",
    "\n",
    "final_3 = price_pred[3]"
   ]
  },
  {
   "cell_type": "markdown",
   "metadata": {},
   "source": [
    " diff(log(goldprice)) ~ ARIMA(101)=ARMA(1,1)     #goldprice는 철광석가격\n",
    " \n",
    " log(goldprice)~ARIMA(1,1,1) # seasonal가 0 1 1\n",
    " \n",
    "*$Y_t ~ ARIMA(1,1,1)$*  \n",
    "\n",
    "$diff(Y_t)<->ARIMA(1,1)$  \n",
    " log(goldprice)에 모델 fit 예측을 한다. 예측한 값에 exp을 구하면 가격 예측값이 나온다 "
   ]
  },
  {
   "cell_type": "code",
   "execution_count": 24,
   "metadata": {},
   "outputs": [
    {
     "name": "stdout",
     "output_type": "stream",
     "text": [
      "[1] 66.38907\n"
     ]
    }
   ],
   "source": [
    "print(final_3) # 3주뒤 철광석 가격 예측"
   ]
  },
  {
   "cell_type": "markdown",
   "metadata": {},
   "source": [
    "### 2week later prediction \n"
   ]
  },
  {
   "cell_type": "code",
   "execution_count": 26,
   "metadata": {},
   "outputs": [
    {
     "name": "stdout",
     "output_type": "stream",
     "text": [
      "       1 \n",
      "66.53993 \n"
     ]
    }
   ],
   "source": [
    "final_2=(final_1+final_3)/2\n",
    "print(final_2)"
   ]
  },
  {
   "cell_type": "markdown",
   "metadata": {},
   "source": [
    "### 4 week later prediction"
   ]
  },
  {
   "cell_type": "code",
   "execution_count": 32,
   "metadata": {},
   "outputs": [],
   "source": [
    "f.bag<-randomForest(price ~ gold+oil1+oil2+oil3+oil4+oil5+dollar,\n",
    "                    data = olddatafram_r ,\n",
    "                    ntree=500,\n",
    "                    mtry = 7,  # using some predictors = r.f.\n",
    "                    importance =TRUE)\n"
   ]
  },
  {
   "cell_type": "code",
   "execution_count": 31,
   "metadata": {},
   "outputs": [],
   "source": [
    "datafram<-datafram[,1:8]"
   ]
  },
  {
   "cell_type": "code",
   "execution_count": 33,
   "metadata": {},
   "outputs": [],
   "source": [
    "pred.bag<-predict(f.bag,newdata=datafram)\n"
   ]
  },
  {
   "cell_type": "code",
   "execution_count": 35,
   "metadata": {},
   "outputs": [
    {
     "name": "stdout",
     "output_type": "stream",
     "text": [
      "       4 \n",
      "65.60608 \n"
     ]
    }
   ],
   "source": [
    "final_41=pred.bag[4] # bagging 결과값\n",
    "print(final_4)"
   ]
  },
  {
   "cell_type": "code",
   "execution_count": 36,
   "metadata": {},
   "outputs": [
    {
     "data": {
      "text/plain": [
       "Series: diff(log(goldprice)) \n",
       "ARIMA(1,0,0) with zero mean \n",
       "\n",
       "Coefficients:\n",
       "         ar1\n",
       "      0.3052\n",
       "s.e.  0.0451\n",
       "\n",
       "sigma^2 estimated as 0.001382:  log likelihood=830.17\n",
       "AIC=-1656.33   AICc=-1656.3   BIC=-1648.11"
      ]
     },
     "metadata": {},
     "output_type": "display_data"
    }
   ],
   "source": [
    "##철광석 ARIMA 분석\n",
    "\n",
    "dollarprice<-olddatafram$price\n",
    "\n",
    "goldprice<-ts(dollarprice,frequency=52)\n",
    "\n",
    "\n",
    "\n",
    "library(tseries)\n",
    "\n",
    "\n",
    "library(forecast)\n",
    "\n",
    "auto.arima(diff(log(goldprice)))\n",
    "\n",
    "\n",
    "fit <- arima(log(goldprice), c(1, 0, 0))\n",
    "\n",
    "pred<-predict(fit,n.ahead=5)\n",
    "\n",
    "numbers<-pred$pred\n",
    "\n",
    "price_pred<-exp(numbers)"
   ]
  },
  {
   "cell_type": "code",
   "execution_count": 37,
   "metadata": {},
   "outputs": [],
   "source": [
    "final_42=price_pred[4] #ARIMA 결과값"
   ]
  },
  {
   "cell_type": "code",
   "execution_count": 41,
   "metadata": {},
   "outputs": [],
   "source": [
    "final_4=(final_41+final_42)/2"
   ]
  },
  {
   "cell_type": "code",
   "execution_count": 43,
   "metadata": {},
   "outputs": [
    {
     "name": "stdout",
     "output_type": "stream",
     "text": [
      "       4 \n",
      "66.44773 \n"
     ]
    }
   ],
   "source": [
    "print(final_4)"
   ]
  },
  {
   "cell_type": "markdown",
   "metadata": {},
   "source": [
    "### 5 week later prediction"
   ]
  },
  {
   "cell_type": "code",
   "execution_count": 44,
   "metadata": {},
   "outputs": [],
   "source": [
    "final_51=pred.bag[5]\n",
    "final_52=price_pred[5]\n",
    "final_5=(final_51+final_52)/2"
   ]
  },
  {
   "cell_type": "code",
   "execution_count": 45,
   "metadata": {},
   "outputs": [
    {
     "name": "stdout",
     "output_type": "stream",
     "text": [
      "       5 \n",
      "66.51819 \n"
     ]
    }
   ],
   "source": [
    "print(final_5)"
   ]
  },
  {
   "cell_type": "code",
   "execution_count": 48,
   "metadata": {},
   "outputs": [],
   "source": [
    "result=cbind(final_1, final_2,final_3,final_4,final_5)\n",
    "result=as.data.frame(result)\n",
    "colnames(result)=c(\"1week\",\"2week\",\"3week\",\"4week\",\"5week\")"
   ]
  },
  {
   "cell_type": "code",
   "execution_count": null,
   "metadata": {},
   "outputs": [],
   "source": []
  }
 ],
 "metadata": {
  "kernelspec": {
   "display_name": "ICA",
   "language": "python",
   "name": "ica_"
  },
  "language_info": {
   "codemirror_mode": {
    "name": "ipython",
    "version": 2
   },
   "file_extension": ".py",
   "mimetype": "text/x-python",
   "name": "python",
   "nbconvert_exporter": "python",
   "pygments_lexer": "ipython2",
   "version": "2.7.14"
  }
 },
 "nbformat": 4,
 "nbformat_minor": 2
}
